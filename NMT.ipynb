{
  "nbformat": 4,
  "nbformat_minor": 0,
  "metadata": {
    "colab": {
      "provenance": [],
      "gpuType": "T4"
    },
    "kernelspec": {
      "name": "python3",
      "display_name": "Python 3"
    },
    "language_info": {
      "name": "python"
    },
    "accelerator": "GPU"
  },
  "cells": [
    {
      "cell_type": "code",
      "execution_count": null,
      "metadata": {
        "id": "fBXRGQ_KsK9O"
      },
      "outputs": [],
      "source": [
        "import io\n",
        "import json\n",
        "import numpy as np\n",
        "import pandas as pd\n",
        "import random\n",
        "import re\n",
        "import tensorflow as tf\n",
        "import unicodedata\n",
        "\n",
        "from google.colab import files\n",
        "from tensorflow.keras import layers\n",
        "from tensorflow.keras.preprocessing.sequence import pad_sequences"
      ]
    },
    {
      "cell_type": "code",
      "source": [
        "# from google.colab import drive\n",
        "# drive.mount('/content/drive')"
      ],
      "metadata": {
        "id": "VfrmffiPwube"
      },
      "execution_count": null,
      "outputs": []
    },
    {
      "cell_type": "markdown",
      "source": [
        "Data Cleaning"
      ],
      "metadata": {
        "id": "4XVMnXSW8lZC"
      }
    },
    {
      "cell_type": "code",
      "source": [
        "import pandas as pd\n",
        "import pickle\n",
        "from wordcloud import WordCloud\n",
        "import matplotlib.pyplot as plt\n",
        "import seaborn as sns\n",
        "import string\n"
      ],
      "metadata": {
        "id": "N3N3gbnh7D6W"
      },
      "execution_count": null,
      "outputs": []
    },
    {
      "cell_type": "code",
      "source": [
        "df = pd.read_csv('cleaned.csv',encoding='utf-8', sep=',',  names=['English', 'Marathi'])"
      ],
      "metadata": {
        "id": "_vLb_4IN8vuO"
      },
      "execution_count": null,
      "outputs": []
    },
    {
      "cell_type": "code",
      "source": [
        "df.head()\n",
        "df.info()"
      ],
      "metadata": {
        "colab": {
          "base_uri": "https://localhost:8080/"
        },
        "id": "ghLFzr2B80Xm",
        "outputId": "205b5f41-4b08-40bb-e32d-825deb5491a1"
      },
      "execution_count": null,
      "outputs": [
        {
          "output_type": "stream",
          "name": "stdout",
          "text": [
            "<class 'pandas.core.frame.DataFrame'>\n",
            "RangeIndex: 41029 entries, 0 to 41028\n",
            "Data columns (total 2 columns):\n",
            " #   Column   Non-Null Count  Dtype \n",
            "---  ------   --------------  ----- \n",
            " 0   English  41029 non-null  object\n",
            " 1   Marathi  41029 non-null  object\n",
            "dtypes: object(2)\n",
            "memory usage: 641.2+ KB\n"
          ]
        }
      ]
    },
    {
      "cell_type": "code",
      "source": [
        "df.isna().sum()"
      ],
      "metadata": {
        "colab": {
          "base_uri": "https://localhost:8080/"
        },
        "id": "b25l-Wxy-ljg",
        "outputId": "c856c8e5-0e47-447b-80b4-8a52a13cb18f"
      },
      "execution_count": null,
      "outputs": [
        {
          "output_type": "execute_result",
          "data": {
            "text/plain": [
              "English    0\n",
              "Marathi    0\n",
              "dtype: int64"
            ]
          },
          "metadata": {},
          "execution_count": 10
        }
      ]
    },
    {
      "cell_type": "markdown",
      "source": [
        "Clean text\n"
      ],
      "metadata": {
        "id": "CCTIWcDR-yol"
      }
    },
    {
      "cell_type": "markdown",
      "source": [
        "remove multiple spaces"
      ],
      "metadata": {
        "id": "ijzkZUia-1Cd"
      }
    },
    {
      "cell_type": "code",
      "source": [
        "df.English = df.English.apply(lambda x: \" \".join(x.split()))\n",
        "df.Marathi = df.Marathi.apply(lambda x: \" \".join(x.split()))"
      ],
      "metadata": {
        "id": "KI7PEbMS-3jb"
      },
      "execution_count": null,
      "outputs": []
    },
    {
      "cell_type": "markdown",
      "source": [
        "lowercare only english characters beause marathi dont have lower and uppercaser"
      ],
      "metadata": {
        "id": "gvvc4AtB-9S7"
      }
    },
    {
      "cell_type": "code",
      "source": [
        "df.English = df.English.apply(lambda x: x.lower())yo"
      ],
      "metadata": {
        "id": "ph07kFe_-6z0"
      },
      "execution_count": null,
      "outputs": []
    },
    {
      "cell_type": "markdown",
      "source": [
        "Contraction to expansion of english text\n",
        "\n",
        "this contraction dictionary is combination from lot of places"
      ],
      "metadata": {
        "id": "y3Md-CP7_AE8"
      }
    },
    {
      "cell_type": "code",
      "source": [
        "with open(\"contraction_expansion.txt\", 'rb') as fp:\n",
        "    contractions= pickle.load(fp)"
      ],
      "metadata": {
        "id": "vJuYYrdI_fHq"
      },
      "execution_count": null,
      "outputs": []
    },
    {
      "cell_type": "code",
      "source": [
        "def expand_contras(text):\n",
        "    '''\n",
        "    takes input as word or list of words\n",
        "    if it is string and contracted it will expand it\n",
        "    example:\n",
        "    it's --> it is\n",
        "    won't --> would not\n",
        "    '''\n",
        "    if type(text) is str:\n",
        "        for key in contractions:\n",
        "            value = contractions[key]\n",
        "            text = text.replace(key, value)\n",
        "        return text\n",
        "    else:\n",
        "        return text"
      ],
      "metadata": {
        "id": "LORz7eks_hyw"
      },
      "execution_count": null,
      "outputs": []
    },
    {
      "cell_type": "code",
      "source": [
        "df.sample(10)"
      ],
      "metadata": {
        "colab": {
          "base_uri": "https://localhost:8080/",
          "height": 363
        },
        "id": "rArN1Y9h_26a",
        "outputId": "0710c049-4512-4f59-85fe-9ea9f404c6cf"
      },
      "execution_count": null,
      "outputs": [
        {
          "output_type": "execute_result",
          "data": {
            "text/plain": [
              "                                 English                              Marathi\n",
              "33675  i met him then for the first time    मी त्याला तेव्हा पहिल्यांदा भेटले\n",
              "6548                    tom is a redneck                       टॉम रेडनेक आहे\n",
              "15236              are they your friends        त्या तुमच्या मैत्रिणी आहेत का\n",
              "30698     do you know how to cook a crab  खेकडा कसा शिजवतात तुला माहीत आहे का\n",
              "31677    beijing is the capital of china             बीजिंग चीनची राजधानी आहे\n",
              "18234             it could rain tomorrow                  उद्या पाऊस पडू शकेल\n",
              "14898              we are from australia             आम्ही ऑस्ट्रेलियाचे आहोत\n",
              "27089        no one has told me anything    मला कोणीही काहीही सांगितलं नाहीये\n",
              "33577  how many marshmallows did you buy    तुम्ही किती मार्शमॅलो विकत घेतलेत\n",
              "4976                     tom has left us          टॉम आपल्याला सोडून गेला आहे"
            ],
            "text/html": [
              "\n",
              "  <div id=\"df-a7b40f22-9ad5-458c-932f-3e05d15a9578\" class=\"colab-df-container\">\n",
              "    <div>\n",
              "<style scoped>\n",
              "    .dataframe tbody tr th:only-of-type {\n",
              "        vertical-align: middle;\n",
              "    }\n",
              "\n",
              "    .dataframe tbody tr th {\n",
              "        vertical-align: top;\n",
              "    }\n",
              "\n",
              "    .dataframe thead th {\n",
              "        text-align: right;\n",
              "    }\n",
              "</style>\n",
              "<table border=\"1\" class=\"dataframe\">\n",
              "  <thead>\n",
              "    <tr style=\"text-align: right;\">\n",
              "      <th></th>\n",
              "      <th>English</th>\n",
              "      <th>Marathi</th>\n",
              "    </tr>\n",
              "  </thead>\n",
              "  <tbody>\n",
              "    <tr>\n",
              "      <th>33675</th>\n",
              "      <td>i met him then for the first time</td>\n",
              "      <td>मी त्याला तेव्हा पहिल्यांदा भेटले</td>\n",
              "    </tr>\n",
              "    <tr>\n",
              "      <th>6548</th>\n",
              "      <td>tom is a redneck</td>\n",
              "      <td>टॉम रेडनेक आहे</td>\n",
              "    </tr>\n",
              "    <tr>\n",
              "      <th>15236</th>\n",
              "      <td>are they your friends</td>\n",
              "      <td>त्या तुमच्या मैत्रिणी आहेत का</td>\n",
              "    </tr>\n",
              "    <tr>\n",
              "      <th>30698</th>\n",
              "      <td>do you know how to cook a crab</td>\n",
              "      <td>खेकडा कसा शिजवतात तुला माहीत आहे का</td>\n",
              "    </tr>\n",
              "    <tr>\n",
              "      <th>31677</th>\n",
              "      <td>beijing is the capital of china</td>\n",
              "      <td>बीजिंग चीनची राजधानी आहे</td>\n",
              "    </tr>\n",
              "    <tr>\n",
              "      <th>18234</th>\n",
              "      <td>it could rain tomorrow</td>\n",
              "      <td>उद्या पाऊस पडू शकेल</td>\n",
              "    </tr>\n",
              "    <tr>\n",
              "      <th>14898</th>\n",
              "      <td>we are from australia</td>\n",
              "      <td>आम्ही ऑस्ट्रेलियाचे आहोत</td>\n",
              "    </tr>\n",
              "    <tr>\n",
              "      <th>27089</th>\n",
              "      <td>no one has told me anything</td>\n",
              "      <td>मला कोणीही काहीही सांगितलं नाहीये</td>\n",
              "    </tr>\n",
              "    <tr>\n",
              "      <th>33577</th>\n",
              "      <td>how many marshmallows did you buy</td>\n",
              "      <td>तुम्ही किती मार्शमॅलो विकत घेतलेत</td>\n",
              "    </tr>\n",
              "    <tr>\n",
              "      <th>4976</th>\n",
              "      <td>tom has left us</td>\n",
              "      <td>टॉम आपल्याला सोडून गेला आहे</td>\n",
              "    </tr>\n",
              "  </tbody>\n",
              "</table>\n",
              "</div>\n",
              "    <div class=\"colab-df-buttons\">\n",
              "\n",
              "  <div class=\"colab-df-container\">\n",
              "    <button class=\"colab-df-convert\" onclick=\"convertToInteractive('df-a7b40f22-9ad5-458c-932f-3e05d15a9578')\"\n",
              "            title=\"Convert this dataframe to an interactive table.\"\n",
              "            style=\"display:none;\">\n",
              "\n",
              "  <svg xmlns=\"http://www.w3.org/2000/svg\" height=\"24px\" viewBox=\"0 -960 960 960\">\n",
              "    <path d=\"M120-120v-720h720v720H120Zm60-500h600v-160H180v160Zm220 220h160v-160H400v160Zm0 220h160v-160H400v160ZM180-400h160v-160H180v160Zm440 0h160v-160H620v160ZM180-180h160v-160H180v160Zm440 0h160v-160H620v160Z\"/>\n",
              "  </svg>\n",
              "    </button>\n",
              "\n",
              "  <style>\n",
              "    .colab-df-container {\n",
              "      display:flex;\n",
              "      gap: 12px;\n",
              "    }\n",
              "\n",
              "    .colab-df-convert {\n",
              "      background-color: #E8F0FE;\n",
              "      border: none;\n",
              "      border-radius: 50%;\n",
              "      cursor: pointer;\n",
              "      display: none;\n",
              "      fill: #1967D2;\n",
              "      height: 32px;\n",
              "      padding: 0 0 0 0;\n",
              "      width: 32px;\n",
              "    }\n",
              "\n",
              "    .colab-df-convert:hover {\n",
              "      background-color: #E2EBFA;\n",
              "      box-shadow: 0px 1px 2px rgba(60, 64, 67, 0.3), 0px 1px 3px 1px rgba(60, 64, 67, 0.15);\n",
              "      fill: #174EA6;\n",
              "    }\n",
              "\n",
              "    .colab-df-buttons div {\n",
              "      margin-bottom: 4px;\n",
              "    }\n",
              "\n",
              "    [theme=dark] .colab-df-convert {\n",
              "      background-color: #3B4455;\n",
              "      fill: #D2E3FC;\n",
              "    }\n",
              "\n",
              "    [theme=dark] .colab-df-convert:hover {\n",
              "      background-color: #434B5C;\n",
              "      box-shadow: 0px 1px 3px 1px rgba(0, 0, 0, 0.15);\n",
              "      filter: drop-shadow(0px 1px 2px rgba(0, 0, 0, 0.3));\n",
              "      fill: #FFFFFF;\n",
              "    }\n",
              "  </style>\n",
              "\n",
              "    <script>\n",
              "      const buttonEl =\n",
              "        document.querySelector('#df-a7b40f22-9ad5-458c-932f-3e05d15a9578 button.colab-df-convert');\n",
              "      buttonEl.style.display =\n",
              "        google.colab.kernel.accessAllowed ? 'block' : 'none';\n",
              "\n",
              "      async function convertToInteractive(key) {\n",
              "        const element = document.querySelector('#df-a7b40f22-9ad5-458c-932f-3e05d15a9578');\n",
              "        const dataTable =\n",
              "          await google.colab.kernel.invokeFunction('convertToInteractive',\n",
              "                                                    [key], {});\n",
              "        if (!dataTable) return;\n",
              "\n",
              "        const docLinkHtml = 'Like what you see? Visit the ' +\n",
              "          '<a target=\"_blank\" href=https://colab.research.google.com/notebooks/data_table.ipynb>data table notebook</a>'\n",
              "          + ' to learn more about interactive tables.';\n",
              "        element.innerHTML = '';\n",
              "        dataTable['output_type'] = 'display_data';\n",
              "        await google.colab.output.renderOutput(dataTable, element);\n",
              "        const docLink = document.createElement('div');\n",
              "        docLink.innerHTML = docLinkHtml;\n",
              "        element.appendChild(docLink);\n",
              "      }\n",
              "    </script>\n",
              "  </div>\n",
              "\n",
              "\n",
              "<div id=\"df-4ace8381-2ffb-46b6-ac55-cb78e6f83e35\">\n",
              "  <button class=\"colab-df-quickchart\" onclick=\"quickchart('df-4ace8381-2ffb-46b6-ac55-cb78e6f83e35')\"\n",
              "            title=\"Suggest charts\"\n",
              "            style=\"display:none;\">\n",
              "\n",
              "<svg xmlns=\"http://www.w3.org/2000/svg\" height=\"24px\"viewBox=\"0 0 24 24\"\n",
              "     width=\"24px\">\n",
              "    <g>\n",
              "        <path d=\"M19 3H5c-1.1 0-2 .9-2 2v14c0 1.1.9 2 2 2h14c1.1 0 2-.9 2-2V5c0-1.1-.9-2-2-2zM9 17H7v-7h2v7zm4 0h-2V7h2v10zm4 0h-2v-4h2v4z\"/>\n",
              "    </g>\n",
              "</svg>\n",
              "  </button>\n",
              "\n",
              "<style>\n",
              "  .colab-df-quickchart {\n",
              "      --bg-color: #E8F0FE;\n",
              "      --fill-color: #1967D2;\n",
              "      --hover-bg-color: #E2EBFA;\n",
              "      --hover-fill-color: #174EA6;\n",
              "      --disabled-fill-color: #AAA;\n",
              "      --disabled-bg-color: #DDD;\n",
              "  }\n",
              "\n",
              "  [theme=dark] .colab-df-quickchart {\n",
              "      --bg-color: #3B4455;\n",
              "      --fill-color: #D2E3FC;\n",
              "      --hover-bg-color: #434B5C;\n",
              "      --hover-fill-color: #FFFFFF;\n",
              "      --disabled-bg-color: #3B4455;\n",
              "      --disabled-fill-color: #666;\n",
              "  }\n",
              "\n",
              "  .colab-df-quickchart {\n",
              "    background-color: var(--bg-color);\n",
              "    border: none;\n",
              "    border-radius: 50%;\n",
              "    cursor: pointer;\n",
              "    display: none;\n",
              "    fill: var(--fill-color);\n",
              "    height: 32px;\n",
              "    padding: 0;\n",
              "    width: 32px;\n",
              "  }\n",
              "\n",
              "  .colab-df-quickchart:hover {\n",
              "    background-color: var(--hover-bg-color);\n",
              "    box-shadow: 0 1px 2px rgba(60, 64, 67, 0.3), 0 1px 3px 1px rgba(60, 64, 67, 0.15);\n",
              "    fill: var(--button-hover-fill-color);\n",
              "  }\n",
              "\n",
              "  .colab-df-quickchart-complete:disabled,\n",
              "  .colab-df-quickchart-complete:disabled:hover {\n",
              "    background-color: var(--disabled-bg-color);\n",
              "    fill: var(--disabled-fill-color);\n",
              "    box-shadow: none;\n",
              "  }\n",
              "\n",
              "  .colab-df-spinner {\n",
              "    border: 2px solid var(--fill-color);\n",
              "    border-color: transparent;\n",
              "    border-bottom-color: var(--fill-color);\n",
              "    animation:\n",
              "      spin 1s steps(1) infinite;\n",
              "  }\n",
              "\n",
              "  @keyframes spin {\n",
              "    0% {\n",
              "      border-color: transparent;\n",
              "      border-bottom-color: var(--fill-color);\n",
              "      border-left-color: var(--fill-color);\n",
              "    }\n",
              "    20% {\n",
              "      border-color: transparent;\n",
              "      border-left-color: var(--fill-color);\n",
              "      border-top-color: var(--fill-color);\n",
              "    }\n",
              "    30% {\n",
              "      border-color: transparent;\n",
              "      border-left-color: var(--fill-color);\n",
              "      border-top-color: var(--fill-color);\n",
              "      border-right-color: var(--fill-color);\n",
              "    }\n",
              "    40% {\n",
              "      border-color: transparent;\n",
              "      border-right-color: var(--fill-color);\n",
              "      border-top-color: var(--fill-color);\n",
              "    }\n",
              "    60% {\n",
              "      border-color: transparent;\n",
              "      border-right-color: var(--fill-color);\n",
              "    }\n",
              "    80% {\n",
              "      border-color: transparent;\n",
              "      border-right-color: var(--fill-color);\n",
              "      border-bottom-color: var(--fill-color);\n",
              "    }\n",
              "    90% {\n",
              "      border-color: transparent;\n",
              "      border-bottom-color: var(--fill-color);\n",
              "    }\n",
              "  }\n",
              "</style>\n",
              "\n",
              "  <script>\n",
              "    async function quickchart(key) {\n",
              "      const quickchartButtonEl =\n",
              "        document.querySelector('#' + key + ' button');\n",
              "      quickchartButtonEl.disabled = true;  // To prevent multiple clicks.\n",
              "      quickchartButtonEl.classList.add('colab-df-spinner');\n",
              "      try {\n",
              "        const charts = await google.colab.kernel.invokeFunction(\n",
              "            'suggestCharts', [key], {});\n",
              "      } catch (error) {\n",
              "        console.error('Error during call to suggestCharts:', error);\n",
              "      }\n",
              "      quickchartButtonEl.classList.remove('colab-df-spinner');\n",
              "      quickchartButtonEl.classList.add('colab-df-quickchart-complete');\n",
              "    }\n",
              "    (() => {\n",
              "      let quickchartButtonEl =\n",
              "        document.querySelector('#df-4ace8381-2ffb-46b6-ac55-cb78e6f83e35 button');\n",
              "      quickchartButtonEl.style.display =\n",
              "        google.colab.kernel.accessAllowed ? 'block' : 'none';\n",
              "    })();\n",
              "  </script>\n",
              "</div>\n",
              "    </div>\n",
              "  </div>\n"
            ]
          },
          "metadata": {},
          "execution_count": 15
        }
      ]
    },
    {
      "cell_type": "code",
      "source": [
        "xyz = \"i'm don't he'll you'll\"\n",
        "expand_contras(xyz)\n"
      ],
      "metadata": {
        "colab": {
          "base_uri": "https://localhost:8080/",
          "height": 36
        },
        "id": "7LhCEqpH_-nx",
        "outputId": "26d858d1-0548-40e7-b348-9488d999a8c9"
      },
      "execution_count": null,
      "outputs": [
        {
          "output_type": "execute_result",
          "data": {
            "text/plain": [
              "'i am do not he will you will'"
            ],
            "application/vnd.google.colaboratory.intrinsic+json": {
              "type": "string"
            }
          },
          "metadata": {},
          "execution_count": 16
        }
      ]
    },
    {
      "cell_type": "code",
      "source": [
        "df.English = df.English.apply(lambda x: expand_contras(x))"
      ],
      "metadata": {
        "id": "VritMKKHAEM1"
      },
      "execution_count": null,
      "outputs": []
    },
    {
      "cell_type": "code",
      "source": [
        "df.sample(5)"
      ],
      "metadata": {
        "colab": {
          "base_uri": "https://localhost:8080/",
          "height": 206
        },
        "id": "XzlJBxFJAGjf",
        "outputId": "4d08155b-fa8c-45fb-da02-035cf699a140"
      },
      "execution_count": null,
      "outputs": [
        {
          "output_type": "execute_result",
          "data": {
            "text/plain": [
              "                                          English  \\\n",
              "22198                   these things are not mine   \n",
              "39924  did he write a letter yesterday yes he did   \n",
              "23435                  i said i still do not know   \n",
              "11616                         i saw you yesterday   \n",
              "27663                we are all going to miss tom   \n",
              "\n",
              "                                       Marathi  \n",
              "22198                त्या वस्तू माझ्या नाहीयेत  \n",
              "39924  त्याने काल एक पत्र लिहिलं का होय लिहिलं  \n",
              "23435         मी म्हणाले मला अजूनही माहीत नाही  \n",
              "11616                   मी तुम्हाला काल पाहिलं  \n",
              "27663        आम्हाला सर्वांनाच टॉमची आठवण येते  "
            ],
            "text/html": [
              "\n",
              "  <div id=\"df-3bfb190b-27ce-4df4-9eb1-4949f2f0cfe3\" class=\"colab-df-container\">\n",
              "    <div>\n",
              "<style scoped>\n",
              "    .dataframe tbody tr th:only-of-type {\n",
              "        vertical-align: middle;\n",
              "    }\n",
              "\n",
              "    .dataframe tbody tr th {\n",
              "        vertical-align: top;\n",
              "    }\n",
              "\n",
              "    .dataframe thead th {\n",
              "        text-align: right;\n",
              "    }\n",
              "</style>\n",
              "<table border=\"1\" class=\"dataframe\">\n",
              "  <thead>\n",
              "    <tr style=\"text-align: right;\">\n",
              "      <th></th>\n",
              "      <th>English</th>\n",
              "      <th>Marathi</th>\n",
              "    </tr>\n",
              "  </thead>\n",
              "  <tbody>\n",
              "    <tr>\n",
              "      <th>22198</th>\n",
              "      <td>these things are not mine</td>\n",
              "      <td>त्या वस्तू माझ्या नाहीयेत</td>\n",
              "    </tr>\n",
              "    <tr>\n",
              "      <th>39924</th>\n",
              "      <td>did he write a letter yesterday yes he did</td>\n",
              "      <td>त्याने काल एक पत्र लिहिलं का होय लिहिलं</td>\n",
              "    </tr>\n",
              "    <tr>\n",
              "      <th>23435</th>\n",
              "      <td>i said i still do not know</td>\n",
              "      <td>मी म्हणाले मला अजूनही माहीत नाही</td>\n",
              "    </tr>\n",
              "    <tr>\n",
              "      <th>11616</th>\n",
              "      <td>i saw you yesterday</td>\n",
              "      <td>मी तुम्हाला काल पाहिलं</td>\n",
              "    </tr>\n",
              "    <tr>\n",
              "      <th>27663</th>\n",
              "      <td>we are all going to miss tom</td>\n",
              "      <td>आम्हाला सर्वांनाच टॉमची आठवण येते</td>\n",
              "    </tr>\n",
              "  </tbody>\n",
              "</table>\n",
              "</div>\n",
              "    <div class=\"colab-df-buttons\">\n",
              "\n",
              "  <div class=\"colab-df-container\">\n",
              "    <button class=\"colab-df-convert\" onclick=\"convertToInteractive('df-3bfb190b-27ce-4df4-9eb1-4949f2f0cfe3')\"\n",
              "            title=\"Convert this dataframe to an interactive table.\"\n",
              "            style=\"display:none;\">\n",
              "\n",
              "  <svg xmlns=\"http://www.w3.org/2000/svg\" height=\"24px\" viewBox=\"0 -960 960 960\">\n",
              "    <path d=\"M120-120v-720h720v720H120Zm60-500h600v-160H180v160Zm220 220h160v-160H400v160Zm0 220h160v-160H400v160ZM180-400h160v-160H180v160Zm440 0h160v-160H620v160ZM180-180h160v-160H180v160Zm440 0h160v-160H620v160Z\"/>\n",
              "  </svg>\n",
              "    </button>\n",
              "\n",
              "  <style>\n",
              "    .colab-df-container {\n",
              "      display:flex;\n",
              "      gap: 12px;\n",
              "    }\n",
              "\n",
              "    .colab-df-convert {\n",
              "      background-color: #E8F0FE;\n",
              "      border: none;\n",
              "      border-radius: 50%;\n",
              "      cursor: pointer;\n",
              "      display: none;\n",
              "      fill: #1967D2;\n",
              "      height: 32px;\n",
              "      padding: 0 0 0 0;\n",
              "      width: 32px;\n",
              "    }\n",
              "\n",
              "    .colab-df-convert:hover {\n",
              "      background-color: #E2EBFA;\n",
              "      box-shadow: 0px 1px 2px rgba(60, 64, 67, 0.3), 0px 1px 3px 1px rgba(60, 64, 67, 0.15);\n",
              "      fill: #174EA6;\n",
              "    }\n",
              "\n",
              "    .colab-df-buttons div {\n",
              "      margin-bottom: 4px;\n",
              "    }\n",
              "\n",
              "    [theme=dark] .colab-df-convert {\n",
              "      background-color: #3B4455;\n",
              "      fill: #D2E3FC;\n",
              "    }\n",
              "\n",
              "    [theme=dark] .colab-df-convert:hover {\n",
              "      background-color: #434B5C;\n",
              "      box-shadow: 0px 1px 3px 1px rgba(0, 0, 0, 0.15);\n",
              "      filter: drop-shadow(0px 1px 2px rgba(0, 0, 0, 0.3));\n",
              "      fill: #FFFFFF;\n",
              "    }\n",
              "  </style>\n",
              "\n",
              "    <script>\n",
              "      const buttonEl =\n",
              "        document.querySelector('#df-3bfb190b-27ce-4df4-9eb1-4949f2f0cfe3 button.colab-df-convert');\n",
              "      buttonEl.style.display =\n",
              "        google.colab.kernel.accessAllowed ? 'block' : 'none';\n",
              "\n",
              "      async function convertToInteractive(key) {\n",
              "        const element = document.querySelector('#df-3bfb190b-27ce-4df4-9eb1-4949f2f0cfe3');\n",
              "        const dataTable =\n",
              "          await google.colab.kernel.invokeFunction('convertToInteractive',\n",
              "                                                    [key], {});\n",
              "        if (!dataTable) return;\n",
              "\n",
              "        const docLinkHtml = 'Like what you see? Visit the ' +\n",
              "          '<a target=\"_blank\" href=https://colab.research.google.com/notebooks/data_table.ipynb>data table notebook</a>'\n",
              "          + ' to learn more about interactive tables.';\n",
              "        element.innerHTML = '';\n",
              "        dataTable['output_type'] = 'display_data';\n",
              "        await google.colab.output.renderOutput(dataTable, element);\n",
              "        const docLink = document.createElement('div');\n",
              "        docLink.innerHTML = docLinkHtml;\n",
              "        element.appendChild(docLink);\n",
              "      }\n",
              "    </script>\n",
              "  </div>\n",
              "\n",
              "\n",
              "<div id=\"df-516babbb-2ec2-4093-aa0c-a005318ed271\">\n",
              "  <button class=\"colab-df-quickchart\" onclick=\"quickchart('df-516babbb-2ec2-4093-aa0c-a005318ed271')\"\n",
              "            title=\"Suggest charts\"\n",
              "            style=\"display:none;\">\n",
              "\n",
              "<svg xmlns=\"http://www.w3.org/2000/svg\" height=\"24px\"viewBox=\"0 0 24 24\"\n",
              "     width=\"24px\">\n",
              "    <g>\n",
              "        <path d=\"M19 3H5c-1.1 0-2 .9-2 2v14c0 1.1.9 2 2 2h14c1.1 0 2-.9 2-2V5c0-1.1-.9-2-2-2zM9 17H7v-7h2v7zm4 0h-2V7h2v10zm4 0h-2v-4h2v4z\"/>\n",
              "    </g>\n",
              "</svg>\n",
              "  </button>\n",
              "\n",
              "<style>\n",
              "  .colab-df-quickchart {\n",
              "      --bg-color: #E8F0FE;\n",
              "      --fill-color: #1967D2;\n",
              "      --hover-bg-color: #E2EBFA;\n",
              "      --hover-fill-color: #174EA6;\n",
              "      --disabled-fill-color: #AAA;\n",
              "      --disabled-bg-color: #DDD;\n",
              "  }\n",
              "\n",
              "  [theme=dark] .colab-df-quickchart {\n",
              "      --bg-color: #3B4455;\n",
              "      --fill-color: #D2E3FC;\n",
              "      --hover-bg-color: #434B5C;\n",
              "      --hover-fill-color: #FFFFFF;\n",
              "      --disabled-bg-color: #3B4455;\n",
              "      --disabled-fill-color: #666;\n",
              "  }\n",
              "\n",
              "  .colab-df-quickchart {\n",
              "    background-color: var(--bg-color);\n",
              "    border: none;\n",
              "    border-radius: 50%;\n",
              "    cursor: pointer;\n",
              "    display: none;\n",
              "    fill: var(--fill-color);\n",
              "    height: 32px;\n",
              "    padding: 0;\n",
              "    width: 32px;\n",
              "  }\n",
              "\n",
              "  .colab-df-quickchart:hover {\n",
              "    background-color: var(--hover-bg-color);\n",
              "    box-shadow: 0 1px 2px rgba(60, 64, 67, 0.3), 0 1px 3px 1px rgba(60, 64, 67, 0.15);\n",
              "    fill: var(--button-hover-fill-color);\n",
              "  }\n",
              "\n",
              "  .colab-df-quickchart-complete:disabled,\n",
              "  .colab-df-quickchart-complete:disabled:hover {\n",
              "    background-color: var(--disabled-bg-color);\n",
              "    fill: var(--disabled-fill-color);\n",
              "    box-shadow: none;\n",
              "  }\n",
              "\n",
              "  .colab-df-spinner {\n",
              "    border: 2px solid var(--fill-color);\n",
              "    border-color: transparent;\n",
              "    border-bottom-color: var(--fill-color);\n",
              "    animation:\n",
              "      spin 1s steps(1) infinite;\n",
              "  }\n",
              "\n",
              "  @keyframes spin {\n",
              "    0% {\n",
              "      border-color: transparent;\n",
              "      border-bottom-color: var(--fill-color);\n",
              "      border-left-color: var(--fill-color);\n",
              "    }\n",
              "    20% {\n",
              "      border-color: transparent;\n",
              "      border-left-color: var(--fill-color);\n",
              "      border-top-color: var(--fill-color);\n",
              "    }\n",
              "    30% {\n",
              "      border-color: transparent;\n",
              "      border-left-color: var(--fill-color);\n",
              "      border-top-color: var(--fill-color);\n",
              "      border-right-color: var(--fill-color);\n",
              "    }\n",
              "    40% {\n",
              "      border-color: transparent;\n",
              "      border-right-color: var(--fill-color);\n",
              "      border-top-color: var(--fill-color);\n",
              "    }\n",
              "    60% {\n",
              "      border-color: transparent;\n",
              "      border-right-color: var(--fill-color);\n",
              "    }\n",
              "    80% {\n",
              "      border-color: transparent;\n",
              "      border-right-color: var(--fill-color);\n",
              "      border-bottom-color: var(--fill-color);\n",
              "    }\n",
              "    90% {\n",
              "      border-color: transparent;\n",
              "      border-bottom-color: var(--fill-color);\n",
              "    }\n",
              "  }\n",
              "</style>\n",
              "\n",
              "  <script>\n",
              "    async function quickchart(key) {\n",
              "      const quickchartButtonEl =\n",
              "        document.querySelector('#' + key + ' button');\n",
              "      quickchartButtonEl.disabled = true;  // To prevent multiple clicks.\n",
              "      quickchartButtonEl.classList.add('colab-df-spinner');\n",
              "      try {\n",
              "        const charts = await google.colab.kernel.invokeFunction(\n",
              "            'suggestCharts', [key], {});\n",
              "      } catch (error) {\n",
              "        console.error('Error during call to suggestCharts:', error);\n",
              "      }\n",
              "      quickchartButtonEl.classList.remove('colab-df-spinner');\n",
              "      quickchartButtonEl.classList.add('colab-df-quickchart-complete');\n",
              "    }\n",
              "    (() => {\n",
              "      let quickchartButtonEl =\n",
              "        document.querySelector('#df-516babbb-2ec2-4093-aa0c-a005318ed271 button');\n",
              "      quickchartButtonEl.style.display =\n",
              "        google.colab.kernel.accessAllowed ? 'block' : 'none';\n",
              "    })();\n",
              "  </script>\n",
              "</div>\n",
              "    </div>\n",
              "  </div>\n"
            ]
          },
          "metadata": {},
          "execution_count": 18
        }
      ]
    },
    {
      "cell_type": "markdown",
      "source": [
        "remove all punctuations"
      ],
      "metadata": {
        "id": "5RRUwIRBziAh"
      }
    },
    {
      "cell_type": "code",
      "source": [
        "translator= str.maketrans('','', string.punctuation)\n",
        "df.English= df.English.apply(lambda x: x.translate(translator))\n",
        "df.Marathi= df.Marathi.apply(lambda x: x.translate(translator))"
      ],
      "metadata": {
        "id": "vgBCkpb0zjJi"
      },
      "execution_count": null,
      "outputs": []
    },
    {
      "cell_type": "code",
      "source": [
        "df.sample(5)"
      ],
      "metadata": {
        "colab": {
          "base_uri": "https://localhost:8080/",
          "height": 206
        },
        "id": "JL0n1Mzhz1Ei",
        "outputId": "f22597c3-9cf0-433e-8e5b-9c8619f8d461"
      },
      "execution_count": null,
      "outputs": [
        {
          "output_type": "execute_result",
          "data": {
            "text/plain": [
              "                                                 English  \\\n",
              "38757         spain once governed the philippine islands   \n",
              "785                                         we will wait   \n",
              "28843                       this law is unconstitutional   \n",
              "29274                       you look just like my sister   \n",
              "40186  a ship that transports oil is called an oil ta...   \n",
              "\n",
              "                                                 Marathi  \n",
              "38757     एकेकाळी स्पेन हा फिलिपीन बेटांचे शासन करत होता  \n",
              "785                                            आपण थांबू  \n",
              "28843                             हा कायदा घटनाबाह्य आहे  \n",
              "29274                तुम्ही अगदी माझ्या बहिणीसारखे दिसता  \n",
              "40186  तेलाचं परिवहन करणार्‍या जहाजाला तेलवाहू जहाज म...  "
            ],
            "text/html": [
              "\n",
              "  <div id=\"df-258a0179-b52a-4cd6-b480-9f5284fb8fc0\" class=\"colab-df-container\">\n",
              "    <div>\n",
              "<style scoped>\n",
              "    .dataframe tbody tr th:only-of-type {\n",
              "        vertical-align: middle;\n",
              "    }\n",
              "\n",
              "    .dataframe tbody tr th {\n",
              "        vertical-align: top;\n",
              "    }\n",
              "\n",
              "    .dataframe thead th {\n",
              "        text-align: right;\n",
              "    }\n",
              "</style>\n",
              "<table border=\"1\" class=\"dataframe\">\n",
              "  <thead>\n",
              "    <tr style=\"text-align: right;\">\n",
              "      <th></th>\n",
              "      <th>English</th>\n",
              "      <th>Marathi</th>\n",
              "    </tr>\n",
              "  </thead>\n",
              "  <tbody>\n",
              "    <tr>\n",
              "      <th>38757</th>\n",
              "      <td>spain once governed the philippine islands</td>\n",
              "      <td>एकेकाळी स्पेन हा फिलिपीन बेटांचे शासन करत होता</td>\n",
              "    </tr>\n",
              "    <tr>\n",
              "      <th>785</th>\n",
              "      <td>we will wait</td>\n",
              "      <td>आपण थांबू</td>\n",
              "    </tr>\n",
              "    <tr>\n",
              "      <th>28843</th>\n",
              "      <td>this law is unconstitutional</td>\n",
              "      <td>हा कायदा घटनाबाह्य आहे</td>\n",
              "    </tr>\n",
              "    <tr>\n",
              "      <th>29274</th>\n",
              "      <td>you look just like my sister</td>\n",
              "      <td>तुम्ही अगदी माझ्या बहिणीसारखे दिसता</td>\n",
              "    </tr>\n",
              "    <tr>\n",
              "      <th>40186</th>\n",
              "      <td>a ship that transports oil is called an oil ta...</td>\n",
              "      <td>तेलाचं परिवहन करणार्‍या जहाजाला तेलवाहू जहाज म...</td>\n",
              "    </tr>\n",
              "  </tbody>\n",
              "</table>\n",
              "</div>\n",
              "    <div class=\"colab-df-buttons\">\n",
              "\n",
              "  <div class=\"colab-df-container\">\n",
              "    <button class=\"colab-df-convert\" onclick=\"convertToInteractive('df-258a0179-b52a-4cd6-b480-9f5284fb8fc0')\"\n",
              "            title=\"Convert this dataframe to an interactive table.\"\n",
              "            style=\"display:none;\">\n",
              "\n",
              "  <svg xmlns=\"http://www.w3.org/2000/svg\" height=\"24px\" viewBox=\"0 -960 960 960\">\n",
              "    <path d=\"M120-120v-720h720v720H120Zm60-500h600v-160H180v160Zm220 220h160v-160H400v160Zm0 220h160v-160H400v160ZM180-400h160v-160H180v160Zm440 0h160v-160H620v160ZM180-180h160v-160H180v160Zm440 0h160v-160H620v160Z\"/>\n",
              "  </svg>\n",
              "    </button>\n",
              "\n",
              "  <style>\n",
              "    .colab-df-container {\n",
              "      display:flex;\n",
              "      gap: 12px;\n",
              "    }\n",
              "\n",
              "    .colab-df-convert {\n",
              "      background-color: #E8F0FE;\n",
              "      border: none;\n",
              "      border-radius: 50%;\n",
              "      cursor: pointer;\n",
              "      display: none;\n",
              "      fill: #1967D2;\n",
              "      height: 32px;\n",
              "      padding: 0 0 0 0;\n",
              "      width: 32px;\n",
              "    }\n",
              "\n",
              "    .colab-df-convert:hover {\n",
              "      background-color: #E2EBFA;\n",
              "      box-shadow: 0px 1px 2px rgba(60, 64, 67, 0.3), 0px 1px 3px 1px rgba(60, 64, 67, 0.15);\n",
              "      fill: #174EA6;\n",
              "    }\n",
              "\n",
              "    .colab-df-buttons div {\n",
              "      margin-bottom: 4px;\n",
              "    }\n",
              "\n",
              "    [theme=dark] .colab-df-convert {\n",
              "      background-color: #3B4455;\n",
              "      fill: #D2E3FC;\n",
              "    }\n",
              "\n",
              "    [theme=dark] .colab-df-convert:hover {\n",
              "      background-color: #434B5C;\n",
              "      box-shadow: 0px 1px 3px 1px rgba(0, 0, 0, 0.15);\n",
              "      filter: drop-shadow(0px 1px 2px rgba(0, 0, 0, 0.3));\n",
              "      fill: #FFFFFF;\n",
              "    }\n",
              "  </style>\n",
              "\n",
              "    <script>\n",
              "      const buttonEl =\n",
              "        document.querySelector('#df-258a0179-b52a-4cd6-b480-9f5284fb8fc0 button.colab-df-convert');\n",
              "      buttonEl.style.display =\n",
              "        google.colab.kernel.accessAllowed ? 'block' : 'none';\n",
              "\n",
              "      async function convertToInteractive(key) {\n",
              "        const element = document.querySelector('#df-258a0179-b52a-4cd6-b480-9f5284fb8fc0');\n",
              "        const dataTable =\n",
              "          await google.colab.kernel.invokeFunction('convertToInteractive',\n",
              "                                                    [key], {});\n",
              "        if (!dataTable) return;\n",
              "\n",
              "        const docLinkHtml = 'Like what you see? Visit the ' +\n",
              "          '<a target=\"_blank\" href=https://colab.research.google.com/notebooks/data_table.ipynb>data table notebook</a>'\n",
              "          + ' to learn more about interactive tables.';\n",
              "        element.innerHTML = '';\n",
              "        dataTable['output_type'] = 'display_data';\n",
              "        await google.colab.output.renderOutput(dataTable, element);\n",
              "        const docLink = document.createElement('div');\n",
              "        docLink.innerHTML = docLinkHtml;\n",
              "        element.appendChild(docLink);\n",
              "      }\n",
              "    </script>\n",
              "  </div>\n",
              "\n",
              "\n",
              "<div id=\"df-15b3b835-992c-46c2-a3bc-b5f27848fcf2\">\n",
              "  <button class=\"colab-df-quickchart\" onclick=\"quickchart('df-15b3b835-992c-46c2-a3bc-b5f27848fcf2')\"\n",
              "            title=\"Suggest charts\"\n",
              "            style=\"display:none;\">\n",
              "\n",
              "<svg xmlns=\"http://www.w3.org/2000/svg\" height=\"24px\"viewBox=\"0 0 24 24\"\n",
              "     width=\"24px\">\n",
              "    <g>\n",
              "        <path d=\"M19 3H5c-1.1 0-2 .9-2 2v14c0 1.1.9 2 2 2h14c1.1 0 2-.9 2-2V5c0-1.1-.9-2-2-2zM9 17H7v-7h2v7zm4 0h-2V7h2v10zm4 0h-2v-4h2v4z\"/>\n",
              "    </g>\n",
              "</svg>\n",
              "  </button>\n",
              "\n",
              "<style>\n",
              "  .colab-df-quickchart {\n",
              "      --bg-color: #E8F0FE;\n",
              "      --fill-color: #1967D2;\n",
              "      --hover-bg-color: #E2EBFA;\n",
              "      --hover-fill-color: #174EA6;\n",
              "      --disabled-fill-color: #AAA;\n",
              "      --disabled-bg-color: #DDD;\n",
              "  }\n",
              "\n",
              "  [theme=dark] .colab-df-quickchart {\n",
              "      --bg-color: #3B4455;\n",
              "      --fill-color: #D2E3FC;\n",
              "      --hover-bg-color: #434B5C;\n",
              "      --hover-fill-color: #FFFFFF;\n",
              "      --disabled-bg-color: #3B4455;\n",
              "      --disabled-fill-color: #666;\n",
              "  }\n",
              "\n",
              "  .colab-df-quickchart {\n",
              "    background-color: var(--bg-color);\n",
              "    border: none;\n",
              "    border-radius: 50%;\n",
              "    cursor: pointer;\n",
              "    display: none;\n",
              "    fill: var(--fill-color);\n",
              "    height: 32px;\n",
              "    padding: 0;\n",
              "    width: 32px;\n",
              "  }\n",
              "\n",
              "  .colab-df-quickchart:hover {\n",
              "    background-color: var(--hover-bg-color);\n",
              "    box-shadow: 0 1px 2px rgba(60, 64, 67, 0.3), 0 1px 3px 1px rgba(60, 64, 67, 0.15);\n",
              "    fill: var(--button-hover-fill-color);\n",
              "  }\n",
              "\n",
              "  .colab-df-quickchart-complete:disabled,\n",
              "  .colab-df-quickchart-complete:disabled:hover {\n",
              "    background-color: var(--disabled-bg-color);\n",
              "    fill: var(--disabled-fill-color);\n",
              "    box-shadow: none;\n",
              "  }\n",
              "\n",
              "  .colab-df-spinner {\n",
              "    border: 2px solid var(--fill-color);\n",
              "    border-color: transparent;\n",
              "    border-bottom-color: var(--fill-color);\n",
              "    animation:\n",
              "      spin 1s steps(1) infinite;\n",
              "  }\n",
              "\n",
              "  @keyframes spin {\n",
              "    0% {\n",
              "      border-color: transparent;\n",
              "      border-bottom-color: var(--fill-color);\n",
              "      border-left-color: var(--fill-color);\n",
              "    }\n",
              "    20% {\n",
              "      border-color: transparent;\n",
              "      border-left-color: var(--fill-color);\n",
              "      border-top-color: var(--fill-color);\n",
              "    }\n",
              "    30% {\n",
              "      border-color: transparent;\n",
              "      border-left-color: var(--fill-color);\n",
              "      border-top-color: var(--fill-color);\n",
              "      border-right-color: var(--fill-color);\n",
              "    }\n",
              "    40% {\n",
              "      border-color: transparent;\n",
              "      border-right-color: var(--fill-color);\n",
              "      border-top-color: var(--fill-color);\n",
              "    }\n",
              "    60% {\n",
              "      border-color: transparent;\n",
              "      border-right-color: var(--fill-color);\n",
              "    }\n",
              "    80% {\n",
              "      border-color: transparent;\n",
              "      border-right-color: var(--fill-color);\n",
              "      border-bottom-color: var(--fill-color);\n",
              "    }\n",
              "    90% {\n",
              "      border-color: transparent;\n",
              "      border-bottom-color: var(--fill-color);\n",
              "    }\n",
              "  }\n",
              "</style>\n",
              "\n",
              "  <script>\n",
              "    async function quickchart(key) {\n",
              "      const quickchartButtonEl =\n",
              "        document.querySelector('#' + key + ' button');\n",
              "      quickchartButtonEl.disabled = true;  // To prevent multiple clicks.\n",
              "      quickchartButtonEl.classList.add('colab-df-spinner');\n",
              "      try {\n",
              "        const charts = await google.colab.kernel.invokeFunction(\n",
              "            'suggestCharts', [key], {});\n",
              "      } catch (error) {\n",
              "        console.error('Error during call to suggestCharts:', error);\n",
              "      }\n",
              "      quickchartButtonEl.classList.remove('colab-df-spinner');\n",
              "      quickchartButtonEl.classList.add('colab-df-quickchart-complete');\n",
              "    }\n",
              "    (() => {\n",
              "      let quickchartButtonEl =\n",
              "        document.querySelector('#df-15b3b835-992c-46c2-a3bc-b5f27848fcf2 button');\n",
              "      quickchartButtonEl.style.display =\n",
              "        google.colab.kernel.accessAllowed ? 'block' : 'none';\n",
              "    })();\n",
              "  </script>\n",
              "</div>\n",
              "    </div>\n",
              "  </div>\n"
            ]
          },
          "metadata": {},
          "execution_count": 20
        }
      ]
    },
    {
      "cell_type": "markdown",
      "source": [
        "Remove digits"
      ],
      "metadata": {
        "id": "NeHYwsJu0Eq8"
      }
    },
    {
      "cell_type": "code",
      "source": [
        "import re\n",
        "df.English= df.English.apply(lambda x: re.sub(r'[\\d]+','', x))\n",
        "df.Marathi= df.Marathi.apply(lambda x: re.sub(r'[\\d]+','', x))"
      ],
      "metadata": {
        "id": "z2XgDGLl0CE8"
      },
      "execution_count": null,
      "outputs": []
    },
    {
      "cell_type": "markdown",
      "source": [
        "Visualize some features of dataset"
      ],
      "metadata": {
        "id": "dymUyAff0M1V"
      }
    },
    {
      "cell_type": "markdown",
      "source": [
        "create new column for count of words"
      ],
      "metadata": {
        "id": "eXH5tp5h0TAk"
      }
    },
    {
      "cell_type": "code",
      "source": [
        "df['en_word_count']= df.English.apply(lambda x: len(x.split()))\n",
        "df['mar_word_count']= df.Marathi.apply(lambda x: len(x.split()))"
      ],
      "metadata": {
        "id": "VwEspPga0NH1"
      },
      "execution_count": null,
      "outputs": []
    },
    {
      "cell_type": "markdown",
      "source": [
        "create new column for count of characters"
      ],
      "metadata": {
        "id": "GV9dtJfb0q23"
      }
    },
    {
      "cell_type": "code",
      "source": [
        "df['mar_char_count']= df.Marathi.apply(lambda x: len(\"\".join(x.split())))\n",
        "df['en_char_count']= df.English.apply(lambda x: len(\"\".join(x.split())))\n",
        "df.head()"
      ],
      "metadata": {
        "colab": {
          "base_uri": "https://localhost:8080/",
          "height": 206
        },
        "id": "0uJyi79c0rC0",
        "outputId": "25f66427-8c9f-4540-dc91-875a0a9528dd"
      },
      "execution_count": null,
      "outputs": [
        {
          "output_type": "execute_result",
          "data": {
            "text/plain": [
              "   English  Marathi  en_word_count  mar_word_count  mar_char_count  \\\n",
              "0  english  Marathi              1               1               7   \n",
              "1       go       जा              1               1               2   \n",
              "2      run       पळ              1               1               2   \n",
              "3      run      धाव              1               1               3   \n",
              "4      run      पळा              1               1               3   \n",
              "\n",
              "   en_char_count  \n",
              "0              7  \n",
              "1              2  \n",
              "2              3  \n",
              "3              3  \n",
              "4              3  "
            ],
            "text/html": [
              "\n",
              "  <div id=\"df-f29178b6-dd8f-4fe2-a229-42e7d1326248\" class=\"colab-df-container\">\n",
              "    <div>\n",
              "<style scoped>\n",
              "    .dataframe tbody tr th:only-of-type {\n",
              "        vertical-align: middle;\n",
              "    }\n",
              "\n",
              "    .dataframe tbody tr th {\n",
              "        vertical-align: top;\n",
              "    }\n",
              "\n",
              "    .dataframe thead th {\n",
              "        text-align: right;\n",
              "    }\n",
              "</style>\n",
              "<table border=\"1\" class=\"dataframe\">\n",
              "  <thead>\n",
              "    <tr style=\"text-align: right;\">\n",
              "      <th></th>\n",
              "      <th>English</th>\n",
              "      <th>Marathi</th>\n",
              "      <th>en_word_count</th>\n",
              "      <th>mar_word_count</th>\n",
              "      <th>mar_char_count</th>\n",
              "      <th>en_char_count</th>\n",
              "    </tr>\n",
              "  </thead>\n",
              "  <tbody>\n",
              "    <tr>\n",
              "      <th>0</th>\n",
              "      <td>english</td>\n",
              "      <td>Marathi</td>\n",
              "      <td>1</td>\n",
              "      <td>1</td>\n",
              "      <td>7</td>\n",
              "      <td>7</td>\n",
              "    </tr>\n",
              "    <tr>\n",
              "      <th>1</th>\n",
              "      <td>go</td>\n",
              "      <td>जा</td>\n",
              "      <td>1</td>\n",
              "      <td>1</td>\n",
              "      <td>2</td>\n",
              "      <td>2</td>\n",
              "    </tr>\n",
              "    <tr>\n",
              "      <th>2</th>\n",
              "      <td>run</td>\n",
              "      <td>पळ</td>\n",
              "      <td>1</td>\n",
              "      <td>1</td>\n",
              "      <td>2</td>\n",
              "      <td>3</td>\n",
              "    </tr>\n",
              "    <tr>\n",
              "      <th>3</th>\n",
              "      <td>run</td>\n",
              "      <td>धाव</td>\n",
              "      <td>1</td>\n",
              "      <td>1</td>\n",
              "      <td>3</td>\n",
              "      <td>3</td>\n",
              "    </tr>\n",
              "    <tr>\n",
              "      <th>4</th>\n",
              "      <td>run</td>\n",
              "      <td>पळा</td>\n",
              "      <td>1</td>\n",
              "      <td>1</td>\n",
              "      <td>3</td>\n",
              "      <td>3</td>\n",
              "    </tr>\n",
              "  </tbody>\n",
              "</table>\n",
              "</div>\n",
              "    <div class=\"colab-df-buttons\">\n",
              "\n",
              "  <div class=\"colab-df-container\">\n",
              "    <button class=\"colab-df-convert\" onclick=\"convertToInteractive('df-f29178b6-dd8f-4fe2-a229-42e7d1326248')\"\n",
              "            title=\"Convert this dataframe to an interactive table.\"\n",
              "            style=\"display:none;\">\n",
              "\n",
              "  <svg xmlns=\"http://www.w3.org/2000/svg\" height=\"24px\" viewBox=\"0 -960 960 960\">\n",
              "    <path d=\"M120-120v-720h720v720H120Zm60-500h600v-160H180v160Zm220 220h160v-160H400v160Zm0 220h160v-160H400v160ZM180-400h160v-160H180v160Zm440 0h160v-160H620v160ZM180-180h160v-160H180v160Zm440 0h160v-160H620v160Z\"/>\n",
              "  </svg>\n",
              "    </button>\n",
              "\n",
              "  <style>\n",
              "    .colab-df-container {\n",
              "      display:flex;\n",
              "      gap: 12px;\n",
              "    }\n",
              "\n",
              "    .colab-df-convert {\n",
              "      background-color: #E8F0FE;\n",
              "      border: none;\n",
              "      border-radius: 50%;\n",
              "      cursor: pointer;\n",
              "      display: none;\n",
              "      fill: #1967D2;\n",
              "      height: 32px;\n",
              "      padding: 0 0 0 0;\n",
              "      width: 32px;\n",
              "    }\n",
              "\n",
              "    .colab-df-convert:hover {\n",
              "      background-color: #E2EBFA;\n",
              "      box-shadow: 0px 1px 2px rgba(60, 64, 67, 0.3), 0px 1px 3px 1px rgba(60, 64, 67, 0.15);\n",
              "      fill: #174EA6;\n",
              "    }\n",
              "\n",
              "    .colab-df-buttons div {\n",
              "      margin-bottom: 4px;\n",
              "    }\n",
              "\n",
              "    [theme=dark] .colab-df-convert {\n",
              "      background-color: #3B4455;\n",
              "      fill: #D2E3FC;\n",
              "    }\n",
              "\n",
              "    [theme=dark] .colab-df-convert:hover {\n",
              "      background-color: #434B5C;\n",
              "      box-shadow: 0px 1px 3px 1px rgba(0, 0, 0, 0.15);\n",
              "      filter: drop-shadow(0px 1px 2px rgba(0, 0, 0, 0.3));\n",
              "      fill: #FFFFFF;\n",
              "    }\n",
              "  </style>\n",
              "\n",
              "    <script>\n",
              "      const buttonEl =\n",
              "        document.querySelector('#df-f29178b6-dd8f-4fe2-a229-42e7d1326248 button.colab-df-convert');\n",
              "      buttonEl.style.display =\n",
              "        google.colab.kernel.accessAllowed ? 'block' : 'none';\n",
              "\n",
              "      async function convertToInteractive(key) {\n",
              "        const element = document.querySelector('#df-f29178b6-dd8f-4fe2-a229-42e7d1326248');\n",
              "        const dataTable =\n",
              "          await google.colab.kernel.invokeFunction('convertToInteractive',\n",
              "                                                    [key], {});\n",
              "        if (!dataTable) return;\n",
              "\n",
              "        const docLinkHtml = 'Like what you see? Visit the ' +\n",
              "          '<a target=\"_blank\" href=https://colab.research.google.com/notebooks/data_table.ipynb>data table notebook</a>'\n",
              "          + ' to learn more about interactive tables.';\n",
              "        element.innerHTML = '';\n",
              "        dataTable['output_type'] = 'display_data';\n",
              "        await google.colab.output.renderOutput(dataTable, element);\n",
              "        const docLink = document.createElement('div');\n",
              "        docLink.innerHTML = docLinkHtml;\n",
              "        element.appendChild(docLink);\n",
              "      }\n",
              "    </script>\n",
              "  </div>\n",
              "\n",
              "\n",
              "<div id=\"df-d588cb1b-110b-4f63-8bb4-6681e5e64f2e\">\n",
              "  <button class=\"colab-df-quickchart\" onclick=\"quickchart('df-d588cb1b-110b-4f63-8bb4-6681e5e64f2e')\"\n",
              "            title=\"Suggest charts\"\n",
              "            style=\"display:none;\">\n",
              "\n",
              "<svg xmlns=\"http://www.w3.org/2000/svg\" height=\"24px\"viewBox=\"0 0 24 24\"\n",
              "     width=\"24px\">\n",
              "    <g>\n",
              "        <path d=\"M19 3H5c-1.1 0-2 .9-2 2v14c0 1.1.9 2 2 2h14c1.1 0 2-.9 2-2V5c0-1.1-.9-2-2-2zM9 17H7v-7h2v7zm4 0h-2V7h2v10zm4 0h-2v-4h2v4z\"/>\n",
              "    </g>\n",
              "</svg>\n",
              "  </button>\n",
              "\n",
              "<style>\n",
              "  .colab-df-quickchart {\n",
              "      --bg-color: #E8F0FE;\n",
              "      --fill-color: #1967D2;\n",
              "      --hover-bg-color: #E2EBFA;\n",
              "      --hover-fill-color: #174EA6;\n",
              "      --disabled-fill-color: #AAA;\n",
              "      --disabled-bg-color: #DDD;\n",
              "  }\n",
              "\n",
              "  [theme=dark] .colab-df-quickchart {\n",
              "      --bg-color: #3B4455;\n",
              "      --fill-color: #D2E3FC;\n",
              "      --hover-bg-color: #434B5C;\n",
              "      --hover-fill-color: #FFFFFF;\n",
              "      --disabled-bg-color: #3B4455;\n",
              "      --disabled-fill-color: #666;\n",
              "  }\n",
              "\n",
              "  .colab-df-quickchart {\n",
              "    background-color: var(--bg-color);\n",
              "    border: none;\n",
              "    border-radius: 50%;\n",
              "    cursor: pointer;\n",
              "    display: none;\n",
              "    fill: var(--fill-color);\n",
              "    height: 32px;\n",
              "    padding: 0;\n",
              "    width: 32px;\n",
              "  }\n",
              "\n",
              "  .colab-df-quickchart:hover {\n",
              "    background-color: var(--hover-bg-color);\n",
              "    box-shadow: 0 1px 2px rgba(60, 64, 67, 0.3), 0 1px 3px 1px rgba(60, 64, 67, 0.15);\n",
              "    fill: var(--button-hover-fill-color);\n",
              "  }\n",
              "\n",
              "  .colab-df-quickchart-complete:disabled,\n",
              "  .colab-df-quickchart-complete:disabled:hover {\n",
              "    background-color: var(--disabled-bg-color);\n",
              "    fill: var(--disabled-fill-color);\n",
              "    box-shadow: none;\n",
              "  }\n",
              "\n",
              "  .colab-df-spinner {\n",
              "    border: 2px solid var(--fill-color);\n",
              "    border-color: transparent;\n",
              "    border-bottom-color: var(--fill-color);\n",
              "    animation:\n",
              "      spin 1s steps(1) infinite;\n",
              "  }\n",
              "\n",
              "  @keyframes spin {\n",
              "    0% {\n",
              "      border-color: transparent;\n",
              "      border-bottom-color: var(--fill-color);\n",
              "      border-left-color: var(--fill-color);\n",
              "    }\n",
              "    20% {\n",
              "      border-color: transparent;\n",
              "      border-left-color: var(--fill-color);\n",
              "      border-top-color: var(--fill-color);\n",
              "    }\n",
              "    30% {\n",
              "      border-color: transparent;\n",
              "      border-left-color: var(--fill-color);\n",
              "      border-top-color: var(--fill-color);\n",
              "      border-right-color: var(--fill-color);\n",
              "    }\n",
              "    40% {\n",
              "      border-color: transparent;\n",
              "      border-right-color: var(--fill-color);\n",
              "      border-top-color: var(--fill-color);\n",
              "    }\n",
              "    60% {\n",
              "      border-color: transparent;\n",
              "      border-right-color: var(--fill-color);\n",
              "    }\n",
              "    80% {\n",
              "      border-color: transparent;\n",
              "      border-right-color: var(--fill-color);\n",
              "      border-bottom-color: var(--fill-color);\n",
              "    }\n",
              "    90% {\n",
              "      border-color: transparent;\n",
              "      border-bottom-color: var(--fill-color);\n",
              "    }\n",
              "  }\n",
              "</style>\n",
              "\n",
              "  <script>\n",
              "    async function quickchart(key) {\n",
              "      const quickchartButtonEl =\n",
              "        document.querySelector('#' + key + ' button');\n",
              "      quickchartButtonEl.disabled = true;  // To prevent multiple clicks.\n",
              "      quickchartButtonEl.classList.add('colab-df-spinner');\n",
              "      try {\n",
              "        const charts = await google.colab.kernel.invokeFunction(\n",
              "            'suggestCharts', [key], {});\n",
              "      } catch (error) {\n",
              "        console.error('Error during call to suggestCharts:', error);\n",
              "      }\n",
              "      quickchartButtonEl.classList.remove('colab-df-spinner');\n",
              "      quickchartButtonEl.classList.add('colab-df-quickchart-complete');\n",
              "    }\n",
              "    (() => {\n",
              "      let quickchartButtonEl =\n",
              "        document.querySelector('#df-d588cb1b-110b-4f63-8bb4-6681e5e64f2e button');\n",
              "      quickchartButtonEl.style.display =\n",
              "        google.colab.kernel.accessAllowed ? 'block' : 'none';\n",
              "    })();\n",
              "  </script>\n",
              "</div>\n",
              "    </div>\n",
              "  </div>\n"
            ]
          },
          "metadata": {},
          "execution_count": 23
        }
      ]
    },
    {
      "cell_type": "code",
      "source": [
        "plt.figure(figsize=(15,10))\n",
        "sns.kdeplot(x=df.en_word_count, shade=True, color='blue', label='Real')"
      ],
      "metadata": {
        "colab": {
          "base_uri": "https://localhost:8080/",
          "height": 885
        },
        "id": "BkUSPymE2W7j",
        "outputId": "680ab46f-20eb-49d9-a626-df516b33e3c6"
      },
      "execution_count": null,
      "outputs": [
        {
          "output_type": "stream",
          "name": "stderr",
          "text": [
            "<ipython-input-24-0956ca3d7be8>:2: FutureWarning: \n",
            "\n",
            "`shade` is now deprecated in favor of `fill`; setting `fill=True`.\n",
            "This will become an error in seaborn v0.14.0; please update your code.\n",
            "\n",
            "  sns.kdeplot(x=df.en_word_count, shade=True, color='blue', label='Real')\n"
          ]
        },
        {
          "output_type": "execute_result",
          "data": {
            "text/plain": [
              "<Axes: xlabel='en_word_count', ylabel='Density'>"
            ]
          },
          "metadata": {},
          "execution_count": 24
        },
        {
          "output_type": "display_data",
          "data": {
            "text/plain": [
              "<Figure size 1500x1000 with 1 Axes>"
            ],
            "image/png": "[encoded data removed]"
          },
          "metadata": {}
        }
      ]
    },
    {
      "cell_type": "code",
      "source": [
        "max(df.en_word_count)"
      ],
      "metadata": {
        "colab": {
          "base_uri": "https://localhost:8080/"
        },
        "id": "-2a_z2Yt2cuI",
        "outputId": "76ba2fe9-ce3c-419f-d7af-abefcea0eeee"
      },
      "execution_count": null,
      "outputs": [
        {
          "output_type": "execute_result",
          "data": {
            "text/plain": [
              "36"
            ]
          },
          "metadata": {},
          "execution_count": 25
        }
      ]
    },
    {
      "cell_type": "code",
      "source": [
        "df.to_csv(\"cleanedf.csv\",index=None)"
      ],
      "metadata": {
        "id": "JMB6-PaB2ruy"
      },
      "execution_count": null,
      "outputs": []
    },
    {
      "cell_type": "markdown",
      "source": [],
      "metadata": {
        "id": "t2jKGBap2hyC"
      }
    },
    {
      "cell_type": "markdown",
      "source": [
        "Conclusion\n",
        "41028 samples of sentenses\n",
        "\n",
        "Min len of both eng and mar sentence is 1\n",
        "\n",
        "Max len of both is 35 -- this will help for padding\n",
        "\n",
        "And we cleaned text removed all punctuatuins digits and expanded contractions in this notebook"
      ],
      "metadata": {
        "id": "H6l31jyn2h1d"
      }
    },
    {
      "cell_type": "code",
      "source": [],
      "metadata": {
        "id": "3fr06nL13D6b"
      },
      "execution_count": null,
      "outputs": []
    },
    {
      "cell_type": "markdown",
      "source": [
        "Training Encoder Decoder Model"
      ],
      "metadata": {
        "id": "1YEmu7L_4Jw5"
      }
    },
    {
      "cell_type": "code",
      "source": [
        "import pandas as pd\n",
        "import numpy as np\n",
        "from sklearn.model_selection import train_test_split\n",
        "import os\n"
      ],
      "metadata": {
        "id": "nj6HGU5w3D8v"
      },
      "execution_count": null,
      "outputs": []
    },
    {
      "cell_type": "code",
      "source": [
        "df= pd.read_csv(\"cleanedf.csv\")\n",
        "df.tail()"
      ],
      "metadata": {
        "colab": {
          "base_uri": "https://localhost:8080/",
          "height": 293
        },
        "id": "5dJOjytB3EAI",
        "outputId": "df9a6010-6349-4736-d06c-f97891a7921d"
      },
      "execution_count": null,
      "outputs": [
        {
          "output_type": "execute_result",
          "data": {
            "text/plain": [
              "                                                 English  \\\n",
              "41024  just saying you do not like fish because of th...   \n",
              "41025  the japanese parliament today officially elect...   \n",
              "41026  tom tried to sell his old vcr instead of throw...   \n",
              "41027  you cannot view flash content on an ipad howev...   \n",
              "41028  in roger miller recorded a song called you do ...   \n",
              "\n",
              "                                                 Marathi  en_word_count  \\\n",
              "41024  हड्डींमुळे मासे आवडत नाही असं म्हणणं हे काय मा...             21   \n",
              "41025  आज जपानी संसदेने अधिकृतरित्या र्‍यौतारौ हाशिमो...             14   \n",
              "41026  टॉमने त्याचा जुना व्हीसीआर फेकून टाकण्याऐवजी व...             25   \n",
              "41027  आयपॅडवर फ्लॅश आशय बघता येत नाही पण तुम्ही त्या...             32   \n",
              "41028  मध्ये रॉजर मिलरने यू डोन्ट वॉन्ट माय लव्ह नावा...             36   \n",
              "\n",
              "       mar_word_count  mar_char_count  en_char_count  \n",
              "41024              13              68             81  \n",
              "41025              12              78             89  \n",
              "41026              23             129             89  \n",
              "41027              24             118            140  \n",
              "41028              35             149            140  "
            ],
            "text/html": [
              "\n",
              "  <div id=\"df-9313c77f-5889-42d2-8051-e3c5799fe41b\" class=\"colab-df-container\">\n",
              "    <div>\n",
              "<style scoped>\n",
              "    .dataframe tbody tr th:only-of-type {\n",
              "        vertical-align: middle;\n",
              "    }\n",
              "\n",
              "    .dataframe tbody tr th {\n",
              "        vertical-align: top;\n",
              "    }\n",
              "\n",
              "    .dataframe thead th {\n",
              "        text-align: right;\n",
              "    }\n",
              "</style>\n",
              "<table border=\"1\" class=\"dataframe\">\n",
              "  <thead>\n",
              "    <tr style=\"text-align: right;\">\n",
              "      <th></th>\n",
              "      <th>English</th>\n",
              "      <th>Marathi</th>\n",
              "      <th>en_word_count</th>\n",
              "      <th>mar_word_count</th>\n",
              "      <th>mar_char_count</th>\n",
              "      <th>en_char_count</th>\n",
              "    </tr>\n",
              "  </thead>\n",
              "  <tbody>\n",
              "    <tr>\n",
              "      <th>41024</th>\n",
              "      <td>just saying you do not like fish because of th...</td>\n",
              "      <td>हड्डींमुळे मासे आवडत नाही असं म्हणणं हे काय मा...</td>\n",
              "      <td>21</td>\n",
              "      <td>13</td>\n",
              "      <td>68</td>\n",
              "      <td>81</td>\n",
              "    </tr>\n",
              "    <tr>\n",
              "      <th>41025</th>\n",
              "      <td>the japanese parliament today officially elect...</td>\n",
              "      <td>आज जपानी संसदेने अधिकृतरित्या र्‍यौतारौ हाशिमो...</td>\n",
              "      <td>14</td>\n",
              "      <td>12</td>\n",
              "      <td>78</td>\n",
              "      <td>89</td>\n",
              "    </tr>\n",
              "    <tr>\n",
              "      <th>41026</th>\n",
              "      <td>tom tried to sell his old vcr instead of throw...</td>\n",
              "      <td>टॉमने त्याचा जुना व्हीसीआर फेकून टाकण्याऐवजी व...</td>\n",
              "      <td>25</td>\n",
              "      <td>23</td>\n",
              "      <td>129</td>\n",
              "      <td>89</td>\n",
              "    </tr>\n",
              "    <tr>\n",
              "      <th>41027</th>\n",
              "      <td>you cannot view flash content on an ipad howev...</td>\n",
              "      <td>आयपॅडवर फ्लॅश आशय बघता येत नाही पण तुम्ही त्या...</td>\n",
              "      <td>32</td>\n",
              "      <td>24</td>\n",
              "      <td>118</td>\n",
              "      <td>140</td>\n",
              "    </tr>\n",
              "    <tr>\n",
              "      <th>41028</th>\n",
              "      <td>in roger miller recorded a song called you do ...</td>\n",
              "      <td>मध्ये रॉजर मिलरने यू डोन्ट वॉन्ट माय लव्ह नावा...</td>\n",
              "      <td>36</td>\n",
              "      <td>35</td>\n",
              "      <td>149</td>\n",
              "      <td>140</td>\n",
              "    </tr>\n",
              "  </tbody>\n",
              "</table>\n",
              "</div>\n",
              "    <div class=\"colab-df-buttons\">\n",
              "\n",
              "  <div class=\"colab-df-container\">\n",
              "    <button class=\"colab-df-convert\" onclick=\"convertToInteractive('df-9313c77f-5889-42d2-8051-e3c5799fe41b')\"\n",
              "            title=\"Convert this dataframe to an interactive table.\"\n",
              "            style=\"display:none;\">\n",
              "\n",
              "  <svg xmlns=\"http://www.w3.org/2000/svg\" height=\"24px\" viewBox=\"0 -960 960 960\">\n",
              "    <path d=\"M120-120v-720h720v720H120Zm60-500h600v-160H180v160Zm220 220h160v-160H400v160Zm0 220h160v-160H400v160ZM180-400h160v-160H180v160Zm440 0h160v-160H620v160ZM180-180h160v-160H180v160Zm440 0h160v-160H620v160Z\"/>\n",
              "  </svg>\n",
              "    </button>\n",
              "\n",
              "  <style>\n",
              "    .colab-df-container {\n",
              "      display:flex;\n",
              "      gap: 12px;\n",
              "    }\n",
              "\n",
              "    .colab-df-convert {\n",
              "      background-color: #E8F0FE;\n",
              "      border: none;\n",
              "      border-radius: 50%;\n",
              "      cursor: pointer;\n",
              "      display: none;\n",
              "      fill: #1967D2;\n",
              "      height: 32px;\n",
              "      padding: 0 0 0 0;\n",
              "      width: 32px;\n",
              "    }\n",
              "\n",
              "    .colab-df-convert:hover {\n",
              "      background-color: #E2EBFA;\n",
              "      box-shadow: 0px 1px 2px rgba(60, 64, 67, 0.3), 0px 1px 3px 1px rgba(60, 64, 67, 0.15);\n",
              "      fill: #174EA6;\n",
              "    }\n",
              "\n",
              "    .colab-df-buttons div {\n",
              "      margin-bottom: 4px;\n",
              "    }\n",
              "\n",
              "    [theme=dark] .colab-df-convert {\n",
              "      background-color: #3B4455;\n",
              "      fill: #D2E3FC;\n",
              "    }\n",
              "\n",
              "    [theme=dark] .colab-df-convert:hover {\n",
              "      background-color: #434B5C;\n",
              "      box-shadow: 0px 1px 3px 1px rgba(0, 0, 0, 0.15);\n",
              "      filter: drop-shadow(0px 1px 2px rgba(0, 0, 0, 0.3));\n",
              "      fill: #FFFFFF;\n",
              "    }\n",
              "  </style>\n",
              "\n",
              "    <script>\n",
              "      const buttonEl =\n",
              "        document.querySelector('#df-9313c77f-5889-42d2-8051-e3c5799fe41b button.colab-df-convert');\n",
              "      buttonEl.style.display =\n",
              "        google.colab.kernel.accessAllowed ? 'block' : 'none';\n",
              "\n",
              "      async function convertToInteractive(key) {\n",
              "        const element = document.querySelector('#df-9313c77f-5889-42d2-8051-e3c5799fe41b');\n",
              "        const dataTable =\n",
              "          await google.colab.kernel.invokeFunction('convertToInteractive',\n",
              "                                                    [key], {});\n",
              "        if (!dataTable) return;\n",
              "\n",
              "        const docLinkHtml = 'Like what you see? Visit the ' +\n",
              "          '<a target=\"_blank\" href=https://colab.research.google.com/notebooks/data_table.ipynb>data table notebook</a>'\n",
              "          + ' to learn more about interactive tables.';\n",
              "        element.innerHTML = '';\n",
              "        dataTable['output_type'] = 'display_data';\n",
              "        await google.colab.output.renderOutput(dataTable, element);\n",
              "        const docLink = document.createElement('div');\n",
              "        docLink.innerHTML = docLinkHtml;\n",
              "        element.appendChild(docLink);\n",
              "      }\n",
              "    </script>\n",
              "  </div>\n",
              "\n",
              "\n",
              "<div id=\"df-3d12447c-9570-469f-b958-8adcbb8cb32e\">\n",
              "  <button class=\"colab-df-quickchart\" onclick=\"quickchart('df-3d12447c-9570-469f-b958-8adcbb8cb32e')\"\n",
              "            title=\"Suggest charts\"\n",
              "            style=\"display:none;\">\n",
              "\n",
              "<svg xmlns=\"http://www.w3.org/2000/svg\" height=\"24px\"viewBox=\"0 0 24 24\"\n",
              "     width=\"24px\">\n",
              "    <g>\n",
              "        <path d=\"M19 3H5c-1.1 0-2 .9-2 2v14c0 1.1.9 2 2 2h14c1.1 0 2-.9 2-2V5c0-1.1-.9-2-2-2zM9 17H7v-7h2v7zm4 0h-2V7h2v10zm4 0h-2v-4h2v4z\"/>\n",
              "    </g>\n",
              "</svg>\n",
              "  </button>\n",
              "\n",
              "<style>\n",
              "  .colab-df-quickchart {\n",
              "      --bg-color: #E8F0FE;\n",
              "      --fill-color: #1967D2;\n",
              "      --hover-bg-color: #E2EBFA;\n",
              "      --hover-fill-color: #174EA6;\n",
              "      --disabled-fill-color: #AAA;\n",
              "      --disabled-bg-color: #DDD;\n",
              "  }\n",
              "\n",
              "  [theme=dark] .colab-df-quickchart {\n",
              "      --bg-color: #3B4455;\n",
              "      --fill-color: #D2E3FC;\n",
              "      --hover-bg-color: #434B5C;\n",
              "      --hover-fill-color: #FFFFFF;\n",
              "      --disabled-bg-color: #3B4455;\n",
              "      --disabled-fill-color: #666;\n",
              "  }\n",
              "\n",
              "  .colab-df-quickchart {\n",
              "    background-color: var(--bg-color);\n",
              "    border: none;\n",
              "    border-radius: 50%;\n",
              "    cursor: pointer;\n",
              "    display: none;\n",
              "    fill: var(--fill-color);\n",
              "    height: 32px;\n",
              "    padding: 0;\n",
              "    width: 32px;\n",
              "  }\n",
              "\n",
              "  .colab-df-quickchart:hover {\n",
              "    background-color: var(--hover-bg-color);\n",
              "    box-shadow: 0 1px 2px rgba(60, 64, 67, 0.3), 0 1px 3px 1px rgba(60, 64, 67, 0.15);\n",
              "    fill: var(--button-hover-fill-color);\n",
              "  }\n",
              "\n",
              "  .colab-df-quickchart-complete:disabled,\n",
              "  .colab-df-quickchart-complete:disabled:hover {\n",
              "    background-color: var(--disabled-bg-color);\n",
              "    fill: var(--disabled-fill-color);\n",
              "    box-shadow: none;\n",
              "  }\n",
              "\n",
              "  .colab-df-spinner {\n",
              "    border: 2px solid var(--fill-color);\n",
              "    border-color: transparent;\n",
              "    border-bottom-color: var(--fill-color);\n",
              "    animation:\n",
              "      spin 1s steps(1) infinite;\n",
              "  }\n",
              "\n",
              "  @keyframes spin {\n",
              "    0% {\n",
              "      border-color: transparent;\n",
              "      border-bottom-color: var(--fill-color);\n",
              "      border-left-color: var(--fill-color);\n",
              "    }\n",
              "    20% {\n",
              "      border-color: transparent;\n",
              "      border-left-color: var(--fill-color);\n",
              "      border-top-color: var(--fill-color);\n",
              "    }\n",
              "    30% {\n",
              "      border-color: transparent;\n",
              "      border-left-color: var(--fill-color);\n",
              "      border-top-color: var(--fill-color);\n",
              "      border-right-color: var(--fill-color);\n",
              "    }\n",
              "    40% {\n",
              "      border-color: transparent;\n",
              "      border-right-color: var(--fill-color);\n",
              "      border-top-color: var(--fill-color);\n",
              "    }\n",
              "    60% {\n",
              "      border-color: transparent;\n",
              "      border-right-color: var(--fill-color);\n",
              "    }\n",
              "    80% {\n",
              "      border-color: transparent;\n",
              "      border-right-color: var(--fill-color);\n",
              "      border-bottom-color: var(--fill-color);\n",
              "    }\n",
              "    90% {\n",
              "      border-color: transparent;\n",
              "      border-bottom-color: var(--fill-color);\n",
              "    }\n",
              "  }\n",
              "</style>\n",
              "\n",
              "  <script>\n",
              "    async function quickchart(key) {\n",
              "      const quickchartButtonEl =\n",
              "        document.querySelector('#' + key + ' button');\n",
              "      quickchartButtonEl.disabled = true;  // To prevent multiple clicks.\n",
              "      quickchartButtonEl.classList.add('colab-df-spinner');\n",
              "      try {\n",
              "        const charts = await google.colab.kernel.invokeFunction(\n",
              "            'suggestCharts', [key], {});\n",
              "      } catch (error) {\n",
              "        console.error('Error during call to suggestCharts:', error);\n",
              "      }\n",
              "      quickchartButtonEl.classList.remove('colab-df-spinner');\n",
              "      quickchartButtonEl.classList.add('colab-df-quickchart-complete');\n",
              "    }\n",
              "    (() => {\n",
              "      let quickchartButtonEl =\n",
              "        document.querySelector('#df-3d12447c-9570-469f-b958-8adcbb8cb32e button');\n",
              "      quickchartButtonEl.style.display =\n",
              "        google.colab.kernel.accessAllowed ? 'block' : 'none';\n",
              "    })();\n",
              "  </script>\n",
              "</div>\n",
              "    </div>\n",
              "  </div>\n"
            ]
          },
          "metadata": {},
          "execution_count": 28
        }
      ]
    },
    {
      "cell_type": "code",
      "source": [],
      "metadata": {
        "id": "B5p1lMs-4X03"
      },
      "execution_count": null,
      "outputs": []
    },
    {
      "cell_type": "markdown",
      "source": [
        "Prepare dataset for encoder decoder model\n",
        "\n",
        "Encoder:-\n",
        "Here first we will convert text into numbers\n",
        "\n",
        "WordEmbedding:- Then embedding is very important layer for beause it will convert the input word-numbers into more dimension of vectors which will have semantic information words means beause of this we can know which words are similar or near to each other.\n",
        "\n",
        "We will not take output of timestamps of encoder beause it will be like one to one mapping so we will just take selt states of encoder as context vector.\n",
        "\n",
        "Decoder:-\n",
        "First most important thing is we have to add special tokens in each target language at start SOS and EOS at end reason of this is The length of translated sentence might not be same as other language so it is to tell model where is start and end of sentence.\n",
        "\n",
        "When building model we will provide initial state of model as context vector recived from Encoder.\n",
        "\n",
        "Fisrt add eos and sos tokens\n",
        "\n",
        "SOS = Start Of String\n",
        "\n",
        "EOS = End Of String\n"
      ],
      "metadata": {
        "id": "GvTHCiZ04k2s"
      }
    },
    {
      "cell_type": "code",
      "source": [
        "df.Marathi = df.Marathi.apply(lambda x: 'sos '+ x +' eos')\n",
        "df"
      ],
      "metadata": {
        "colab": {
          "base_uri": "https://localhost:8080/",
          "height": 510
        },
        "id": "ZTcbXRzM40i9",
        "outputId": "2f9c1256-ef50-46d9-dad3-5c91e82b8160"
      },
      "execution_count": null,
      "outputs": [
        {
          "output_type": "execute_result",
          "data": {
            "text/plain": [
              "                                                 English  \\\n",
              "0                                                english   \n",
              "1                                                     go   \n",
              "2                                                    run   \n",
              "3                                                    run   \n",
              "4                                                    run   \n",
              "...                                                  ...   \n",
              "41024  just saying you do not like fish because of th...   \n",
              "41025  the japanese parliament today officially elect...   \n",
              "41026  tom tried to sell his old vcr instead of throw...   \n",
              "41027  you cannot view flash content on an ipad howev...   \n",
              "41028  in roger miller recorded a song called you do ...   \n",
              "\n",
              "                                                 Marathi  en_word_count  \\\n",
              "0                                        sos Marathi eos              1   \n",
              "1                                             sos जा eos              1   \n",
              "2                                             sos पळ eos              1   \n",
              "3                                            sos धाव eos              1   \n",
              "4                                            sos पळा eos              1   \n",
              "...                                                  ...            ...   \n",
              "41024  sos हड्डींमुळे मासे आवडत नाही असं म्हणणं हे का...             21   \n",
              "41025  sos आज जपानी संसदेने अधिकृतरित्या र्‍यौतारौ हा...             14   \n",
              "41026  sos टॉमने त्याचा जुना व्हीसीआर फेकून टाकण्याऐव...             25   \n",
              "41027  sos आयपॅडवर फ्लॅश आशय बघता येत नाही पण तुम्ही ...             32   \n",
              "41028  sos मध्ये रॉजर मिलरने यू डोन्ट वॉन्ट माय लव्ह ...             36   \n",
              "\n",
              "       mar_word_count  mar_char_count  en_char_count  \n",
              "0                   1               7              7  \n",
              "1                   1               2              2  \n",
              "2                   1               2              3  \n",
              "3                   1               3              3  \n",
              "4                   1               3              3  \n",
              "...               ...             ...            ...  \n",
              "41024              13              68             81  \n",
              "41025              12              78             89  \n",
              "41026              23             129             89  \n",
              "41027              24             118            140  \n",
              "41028              35             149            140  \n",
              "\n",
              "[41029 rows x 6 columns]"
            ],
            "text/html": [
              "\n",
              "  <div id=\"df-203e1a96-bc5d-4d42-ad36-fa79d0ebd3fd\" class=\"colab-df-container\">\n",
              "    <div>\n",
              "<style scoped>\n",
              "    .dataframe tbody tr th:only-of-type {\n",
              "        vertical-align: middle;\n",
              "    }\n",
              "\n",
              "    .dataframe tbody tr th {\n",
              "        vertical-align: top;\n",
              "    }\n",
              "\n",
              "    .dataframe thead th {\n",
              "        text-align: right;\n",
              "    }\n",
              "</style>\n",
              "<table border=\"1\" class=\"dataframe\">\n",
              "  <thead>\n",
              "    <tr style=\"text-align: right;\">\n",
              "      <th></th>\n",
              "      <th>English</th>\n",
              "      <th>Marathi</th>\n",
              "      <th>en_word_count</th>\n",
              "      <th>mar_word_count</th>\n",
              "      <th>mar_char_count</th>\n",
              "      <th>en_char_count</th>\n",
              "    </tr>\n",
              "  </thead>\n",
              "  <tbody>\n",
              "    <tr>\n",
              "      <th>0</th>\n",
              "      <td>english</td>\n",
              "      <td>sos Marathi eos</td>\n",
              "      <td>1</td>\n",
              "      <td>1</td>\n",
              "      <td>7</td>\n",
              "      <td>7</td>\n",
              "    </tr>\n",
              "    <tr>\n",
              "      <th>1</th>\n",
              "      <td>go</td>\n",
              "      <td>sos जा eos</td>\n",
              "      <td>1</td>\n",
              "      <td>1</td>\n",
              "      <td>2</td>\n",
              "      <td>2</td>\n",
              "    </tr>\n",
              "    <tr>\n",
              "      <th>2</th>\n",
              "      <td>run</td>\n",
              "      <td>sos पळ eos</td>\n",
              "      <td>1</td>\n",
              "      <td>1</td>\n",
              "      <td>2</td>\n",
              "      <td>3</td>\n",
              "    </tr>\n",
              "    <tr>\n",
              "      <th>3</th>\n",
              "      <td>run</td>\n",
              "      <td>sos धाव eos</td>\n",
              "      <td>1</td>\n",
              "      <td>1</td>\n",
              "      <td>3</td>\n",
              "      <td>3</td>\n",
              "    </tr>\n",
              "    <tr>\n",
              "      <th>4</th>\n",
              "      <td>run</td>\n",
              "      <td>sos पळा eos</td>\n",
              "      <td>1</td>\n",
              "      <td>1</td>\n",
              "      <td>3</td>\n",
              "      <td>3</td>\n",
              "    </tr>\n",
              "    <tr>\n",
              "      <th>...</th>\n",
              "      <td>...</td>\n",
              "      <td>...</td>\n",
              "      <td>...</td>\n",
              "      <td>...</td>\n",
              "      <td>...</td>\n",
              "      <td>...</td>\n",
              "    </tr>\n",
              "    <tr>\n",
              "      <th>41024</th>\n",
              "      <td>just saying you do not like fish because of th...</td>\n",
              "      <td>sos हड्डींमुळे मासे आवडत नाही असं म्हणणं हे का...</td>\n",
              "      <td>21</td>\n",
              "      <td>13</td>\n",
              "      <td>68</td>\n",
              "      <td>81</td>\n",
              "    </tr>\n",
              "    <tr>\n",
              "      <th>41025</th>\n",
              "      <td>the japanese parliament today officially elect...</td>\n",
              "      <td>sos आज जपानी संसदेने अधिकृतरित्या र्‍यौतारौ हा...</td>\n",
              "      <td>14</td>\n",
              "      <td>12</td>\n",
              "      <td>78</td>\n",
              "      <td>89</td>\n",
              "    </tr>\n",
              "    <tr>\n",
              "      <th>41026</th>\n",
              "      <td>tom tried to sell his old vcr instead of throw...</td>\n",
              "      <td>sos टॉमने त्याचा जुना व्हीसीआर फेकून टाकण्याऐव...</td>\n",
              "      <td>25</td>\n",
              "      <td>23</td>\n",
              "      <td>129</td>\n",
              "      <td>89</td>\n",
              "    </tr>\n",
              "    <tr>\n",
              "      <th>41027</th>\n",
              "      <td>you cannot view flash content on an ipad howev...</td>\n",
              "      <td>sos आयपॅडवर फ्लॅश आशय बघता येत नाही पण तुम्ही ...</td>\n",
              "      <td>32</td>\n",
              "      <td>24</td>\n",
              "      <td>118</td>\n",
              "      <td>140</td>\n",
              "    </tr>\n",
              "    <tr>\n",
              "      <th>41028</th>\n",
              "      <td>in roger miller recorded a song called you do ...</td>\n",
              "      <td>sos मध्ये रॉजर मिलरने यू डोन्ट वॉन्ट माय लव्ह ...</td>\n",
              "      <td>36</td>\n",
              "      <td>35</td>\n",
              "      <td>149</td>\n",
              "      <td>140</td>\n",
              "    </tr>\n",
              "  </tbody>\n",
              "</table>\n",
              "<p>41029 rows × 6 columns</p>\n",
              "</div>\n",
              "    <div class=\"colab-df-buttons\">\n",
              "\n",
              "  <div class=\"colab-df-container\">\n",
              "    <button class=\"colab-df-convert\" onclick=\"convertToInteractive('df-203e1a96-bc5d-4d42-ad36-fa79d0ebd3fd')\"\n",
              "            title=\"Convert this dataframe to an interactive table.\"\n",
              "            style=\"display:none;\">\n",
              "\n",
              "  <svg xmlns=\"http://www.w3.org/2000/svg\" height=\"24px\" viewBox=\"0 -960 960 960\">\n",
              "    <path d=\"M120-120v-720h720v720H120Zm60-500h600v-160H180v160Zm220 220h160v-160H400v160Zm0 220h160v-160H400v160ZM180-400h160v-160H180v160Zm440 0h160v-160H620v160ZM180-180h160v-160H180v160Zm440 0h160v-160H620v160Z\"/>\n",
              "  </svg>\n",
              "    </button>\n",
              "\n",
              "  <style>\n",
              "    .colab-df-container {\n",
              "      display:flex;\n",
              "      gap: 12px;\n",
              "    }\n",
              "\n",
              "    .colab-df-convert {\n",
              "      background-color: #E8F0FE;\n",
              "      border: none;\n",
              "      border-radius: 50%;\n",
              "      cursor: pointer;\n",
              "      display: none;\n",
              "      fill: #1967D2;\n",
              "      height: 32px;\n",
              "      padding: 0 0 0 0;\n",
              "      width: 32px;\n",
              "    }\n",
              "\n",
              "    .colab-df-convert:hover {\n",
              "      background-color: #E2EBFA;\n",
              "      box-shadow: 0px 1px 2px rgba(60, 64, 67, 0.3), 0px 1px 3px 1px rgba(60, 64, 67, 0.15);\n",
              "      fill: #174EA6;\n",
              "    }\n",
              "\n",
              "    .colab-df-buttons div {\n",
              "      margin-bottom: 4px;\n",
              "    }\n",
              "\n",
              "    [theme=dark] .colab-df-convert {\n",
              "      background-color: #3B4455;\n",
              "      fill: #D2E3FC;\n",
              "    }\n",
              "\n",
              "    [theme=dark] .colab-df-convert:hover {\n",
              "      background-color: #434B5C;\n",
              "      box-shadow: 0px 1px 3px 1px rgba(0, 0, 0, 0.15);\n",
              "      filter: drop-shadow(0px 1px 2px rgba(0, 0, 0, 0.3));\n",
              "      fill: #FFFFFF;\n",
              "    }\n",
              "  </style>\n",
              "\n",
              "    <script>\n",
              "      const buttonEl =\n",
              "        document.querySelector('#df-203e1a96-bc5d-4d42-ad36-fa79d0ebd3fd button.colab-df-convert');\n",
              "      buttonEl.style.display =\n",
              "        google.colab.kernel.accessAllowed ? 'block' : 'none';\n",
              "\n",
              "      async function convertToInteractive(key) {\n",
              "        const element = document.querySelector('#df-203e1a96-bc5d-4d42-ad36-fa79d0ebd3fd');\n",
              "        const dataTable =\n",
              "          await google.colab.kernel.invokeFunction('convertToInteractive',\n",
              "                                                    [key], {});\n",
              "        if (!dataTable) return;\n",
              "\n",
              "        const docLinkHtml = 'Like what you see? Visit the ' +\n",
              "          '<a target=\"_blank\" href=https://colab.research.google.com/notebooks/data_table.ipynb>data table notebook</a>'\n",
              "          + ' to learn more about interactive tables.';\n",
              "        element.innerHTML = '';\n",
              "        dataTable['output_type'] = 'display_data';\n",
              "        await google.colab.output.renderOutput(dataTable, element);\n",
              "        const docLink = document.createElement('div');\n",
              "        docLink.innerHTML = docLinkHtml;\n",
              "        element.appendChild(docLink);\n",
              "      }\n",
              "    </script>\n",
              "  </div>\n",
              "\n",
              "\n",
              "<div id=\"df-e5fec315-cb78-4c22-97ee-a866ed8721a5\">\n",
              "  <button class=\"colab-df-quickchart\" onclick=\"quickchart('df-e5fec315-cb78-4c22-97ee-a866ed8721a5')\"\n",
              "            title=\"Suggest charts\"\n",
              "            style=\"display:none;\">\n",
              "\n",
              "<svg xmlns=\"http://www.w3.org/2000/svg\" height=\"24px\"viewBox=\"0 0 24 24\"\n",
              "     width=\"24px\">\n",
              "    <g>\n",
              "        <path d=\"M19 3H5c-1.1 0-2 .9-2 2v14c0 1.1.9 2 2 2h14c1.1 0 2-.9 2-2V5c0-1.1-.9-2-2-2zM9 17H7v-7h2v7zm4 0h-2V7h2v10zm4 0h-2v-4h2v4z\"/>\n",
              "    </g>\n",
              "</svg>\n",
              "  </button>\n",
              "\n",
              "<style>\n",
              "  .colab-df-quickchart {\n",
              "      --bg-color: #E8F0FE;\n",
              "      --fill-color: #1967D2;\n",
              "      --hover-bg-color: #E2EBFA;\n",
              "      --hover-fill-color: #174EA6;\n",
              "      --disabled-fill-color: #AAA;\n",
              "      --disabled-bg-color: #DDD;\n",
              "  }\n",
              "\n",
              "  [theme=dark] .colab-df-quickchart {\n",
              "      --bg-color: #3B4455;\n",
              "      --fill-color: #D2E3FC;\n",
              "      --hover-bg-color: #434B5C;\n",
              "      --hover-fill-color: #FFFFFF;\n",
              "      --disabled-bg-color: #3B4455;\n",
              "      --disabled-fill-color: #666;\n",
              "  }\n",
              "\n",
              "  .colab-df-quickchart {\n",
              "    background-color: var(--bg-color);\n",
              "    border: none;\n",
              "    border-radius: 50%;\n",
              "    cursor: pointer;\n",
              "    display: none;\n",
              "    fill: var(--fill-color);\n",
              "    height: 32px;\n",
              "    padding: 0;\n",
              "    width: 32px;\n",
              "  }\n",
              "\n",
              "  .colab-df-quickchart:hover {\n",
              "    background-color: var(--hover-bg-color);\n",
              "    box-shadow: 0 1px 2px rgba(60, 64, 67, 0.3), 0 1px 3px 1px rgba(60, 64, 67, 0.15);\n",
              "    fill: var(--button-hover-fill-color);\n",
              "  }\n",
              "\n",
              "  .colab-df-quickchart-complete:disabled,\n",
              "  .colab-df-quickchart-complete:disabled:hover {\n",
              "    background-color: var(--disabled-bg-color);\n",
              "    fill: var(--disabled-fill-color);\n",
              "    box-shadow: none;\n",
              "  }\n",
              "\n",
              "  .colab-df-spinner {\n",
              "    border: 2px solid var(--fill-color);\n",
              "    border-color: transparent;\n",
              "    border-bottom-color: var(--fill-color);\n",
              "    animation:\n",
              "      spin 1s steps(1) infinite;\n",
              "  }\n",
              "\n",
              "  @keyframes spin {\n",
              "    0% {\n",
              "      border-color: transparent;\n",
              "      border-bottom-color: var(--fill-color);\n",
              "      border-left-color: var(--fill-color);\n",
              "    }\n",
              "    20% {\n",
              "      border-color: transparent;\n",
              "      border-left-color: var(--fill-color);\n",
              "      border-top-color: var(--fill-color);\n",
              "    }\n",
              "    30% {\n",
              "      border-color: transparent;\n",
              "      border-left-color: var(--fill-color);\n",
              "      border-top-color: var(--fill-color);\n",
              "      border-right-color: var(--fill-color);\n",
              "    }\n",
              "    40% {\n",
              "      border-color: transparent;\n",
              "      border-right-color: var(--fill-color);\n",
              "      border-top-color: var(--fill-color);\n",
              "    }\n",
              "    60% {\n",
              "      border-color: transparent;\n",
              "      border-right-color: var(--fill-color);\n",
              "    }\n",
              "    80% {\n",
              "      border-color: transparent;\n",
              "      border-right-color: var(--fill-color);\n",
              "      border-bottom-color: var(--fill-color);\n",
              "    }\n",
              "    90% {\n",
              "      border-color: transparent;\n",
              "      border-bottom-color: var(--fill-color);\n",
              "    }\n",
              "  }\n",
              "</style>\n",
              "\n",
              "  <script>\n",
              "    async function quickchart(key) {\n",
              "      const quickchartButtonEl =\n",
              "        document.querySelector('#' + key + ' button');\n",
              "      quickchartButtonEl.disabled = true;  // To prevent multiple clicks.\n",
              "      quickchartButtonEl.classList.add('colab-df-spinner');\n",
              "      try {\n",
              "        const charts = await google.colab.kernel.invokeFunction(\n",
              "            'suggestCharts', [key], {});\n",
              "      } catch (error) {\n",
              "        console.error('Error during call to suggestCharts:', error);\n",
              "      }\n",
              "      quickchartButtonEl.classList.remove('colab-df-spinner');\n",
              "      quickchartButtonEl.classList.add('colab-df-quickchart-complete');\n",
              "    }\n",
              "    (() => {\n",
              "      let quickchartButtonEl =\n",
              "        document.querySelector('#df-e5fec315-cb78-4c22-97ee-a866ed8721a5 button');\n",
              "      quickchartButtonEl.style.display =\n",
              "        google.colab.kernel.accessAllowed ? 'block' : 'none';\n",
              "    })();\n",
              "  </script>\n",
              "</div>\n",
              "    </div>\n",
              "  </div>\n"
            ]
          },
          "metadata": {},
          "execution_count": 29
        }
      ]
    },
    {
      "cell_type": "markdown",
      "source": [
        "create vocabulary of english and marathi words\n"
      ],
      "metadata": {
        "id": "gG0dAHf547PN"
      }
    },
    {
      "cell_type": "code",
      "source": [
        "eng_vocab= set()\n",
        "for sent in df.English:\n",
        "    for word in sent.split():\n",
        "        if word not in eng_vocab:\n",
        "            eng_vocab.add(word)\n",
        "\n",
        "mar_vocab= set()\n",
        "for sent in df.Marathi:\n",
        "    for word in sent.split():\n",
        "        if word not in mar_vocab:\n",
        "            mar_vocab.add(word)\n",
        "\n",
        "len(eng_vocab), len(mar_vocab),"
      ],
      "metadata": {
        "colab": {
          "base_uri": "https://localhost:8080/"
        },
        "id": "Rj6er9xw5CRZ",
        "outputId": "a74c899c-033a-4dc0-ef89-a7259b4cab5b"
      },
      "execution_count": null,
      "outputs": [
        {
          "output_type": "execute_result",
          "data": {
            "text/plain": [
              "(5640, 13720)"
            ]
          },
          "metadata": {},
          "execution_count": 30
        }
      ]
    },
    {
      "cell_type": "code",
      "source": [
        "# for zero padding add 1 in them\n",
        "ENG_VOCAB_SIZE= len(eng_vocab)+1\n",
        "MAR_VOCAB_SIZE= len(mar_vocab)+1\n",
        "print(ENG_VOCAB_SIZE)\n",
        "print(MAR_VOCAB_SIZE)\n"
      ],
      "metadata": {
        "colab": {
          "base_uri": "https://localhost:8080/"
        },
        "id": "5P2nakTw5M6S",
        "outputId": "da785e5f-60a3-4ae9-a4c8-365de5032f1c"
      },
      "execution_count": null,
      "outputs": [
        {
          "output_type": "stream",
          "name": "stdout",
          "text": [
            "5641\n",
            "13721\n"
          ]
        }
      ]
    },
    {
      "cell_type": "markdown",
      "source": [
        "Create dictionary for words and their indexes then we can convert text into numbers"
      ],
      "metadata": {
        "id": "0mJH798x6HtX"
      }
    },
    {
      "cell_type": "markdown",
      "source": [
        "First we need sorted words list"
      ],
      "metadata": {
        "id": "ldxiztq76LWn"
      }
    },
    {
      "cell_type": "code",
      "source": [
        "eng_words = sorted(list(eng_vocab))\n",
        "mar_words = sorted(list(mar_vocab))"
      ],
      "metadata": {
        "id": "hp-d6YP76G9E"
      },
      "execution_count": null,
      "outputs": []
    },
    {
      "cell_type": "markdown",
      "source": [
        "Word to number"
      ],
      "metadata": {
        "id": "w0u2NLy27HX5"
      }
    },
    {
      "cell_type": "code",
      "source": [
        "# create english and marathi dicts\n",
        "eng_word_index = dict((w, i) for i, w in enumerate(eng_words))\n",
        "mar_word_index = dict((w, i) for i, w in enumerate(mar_words))\n",
        "# mar_word_index"
      ],
      "metadata": {
        "id": "VzL9_KCm7Fuu"
      },
      "execution_count": null,
      "outputs": []
    },
    {
      "cell_type": "markdown",
      "source": [
        "Number to word\n",
        "\n",
        "we will need this one at time of creating text from predicted values"
      ],
      "metadata": {
        "id": "ZS23y-m37dKW"
      }
    },
    {
      "cell_type": "code",
      "source": [
        "eng_index_word = dict((i, w) for i, w in enumerate(eng_words))\n",
        "mar_index_word = dict((i,w) for i, w in enumerate(mar_words))\n",
        "# mar_index_word"
      ],
      "metadata": {
        "id": "PHdjQ3v47McR"
      },
      "execution_count": null,
      "outputs": []
    },
    {
      "cell_type": "markdown",
      "source": [
        "Train test split"
      ],
      "metadata": {
        "id": "ET3P-3crW0s7"
      }
    },
    {
      "cell_type": "code",
      "source": [
        "X_train, X_test, y_train, y_test= train_test_split(df.English, df.Marathi, test_size=0.1, random_state=0)\n",
        "X_train.shape, X_test.shape, y_train.shape, y_test.shape"
      ],
      "metadata": {
        "colab": {
          "base_uri": "https://localhost:8080/"
        },
        "id": "oCpzNyR2W4Aw",
        "outputId": "3a82a75f-07e8-4865-d4d3-97d0efc7ec5e"
      },
      "execution_count": null,
      "outputs": [
        {
          "output_type": "execute_result",
          "data": {
            "text/plain": [
              "((36926,), (4103,), (36926,), (4103,))"
            ]
          },
          "metadata": {},
          "execution_count": 35
        }
      ]
    },
    {
      "cell_type": "markdown",
      "source": [
        "Create data generator\n",
        "\n",
        "if we create array of 3d shape with our vocab size this will give us out of memmory error\n",
        "\n",
        "And it is always best to use batches to train it will make process faster\n",
        "\n",
        "Insted of passing all data in model which may run out of memory we create data generator which will create data batches at time of training\n"
      ],
      "metadata": {
        "id": "9Ai2p8fOXWeL"
      }
    },
    {
      "cell_type": "markdown",
      "source": [
        "prepare input for encoder decoder refer\n",
        "Turn the sentences into 3 Numpy arrays, encoder_input_data, decoder_input_data, decoder_target_data:\n",
        "\n",
        "encoder_input_data is a 3D array of shape (num_pairs,max_english_sentence_length, num_english_characters) containing a one-hot vectorization of the English sentences.\n",
        "\n",
        "decoder_input_data is a 3D array of shape (num_pairs, max_french_sentence_length, num_french_characters) containg a one-hot vectorization of the French sentences.\n",
        "\n",
        "decoder_target_data is the same as decoder_input_data but offset by one timestep. decoder_target_data[:, t, :] will be the same as decoder_input_data[:, t + 1, :].\n",
        "\n",
        "Train a basic LSTM-based Seq2Seq model to predict decoder_target_data given encoder_input_data and decoder_input_data.\n",
        " Our model uses teacher forcing.\n",
        "\n",
        "Decode some sentences to check that the model is working (i.e. turn samples from encoder_input_data into corresponding samples from decoder_target_data).\n",
        "\n",
        "We use a technique called “Teacher Forcing” wherein the input at each time step is given as the actual output (and not the predicted output) from the previous time step."
      ],
      "metadata": {
        "id": "dc5qfK_kXeBB"
      }
    },
    {
      "cell_type": "markdown",
      "source": [
        "Before we go ahead lets define some things we need for data generator"
      ],
      "metadata": {
        "id": "937oZVm_Xr-D"
      }
    },
    {
      "cell_type": "code",
      "source": [
        "### Get lengths of each sentence in list\n",
        "eng_len_list=df.English.apply(lambda x: len(x.split())).to_list()\n",
        "\n",
        "mar_len_list=df.Marathi.apply(lambda x: len(x.split())).to_list()"
      ],
      "metadata": {
        "id": "fjd9bdMNW8Er"
      },
      "execution_count": null,
      "outputs": []
    },
    {
      "cell_type": "code",
      "source": [
        "# get max length\n",
        "BATCH_SIZE= 64\n",
        "max_eng_len =  np.max(eng_len_list)\n",
        "max_mar_len =  np.max(mar_len_list)\n",
        "max_eng_len, max_mar_len"
      ],
      "metadata": {
        "colab": {
          "base_uri": "https://localhost:8080/"
        },
        "id": "NkzuyzRLXw2O",
        "outputId": "bddb7fa1-1caa-4a27-de57-3640962841c8"
      },
      "execution_count": null,
      "outputs": [
        {
          "output_type": "execute_result",
          "data": {
            "text/plain": [
              "(36, 37)"
            ]
          },
          "metadata": {},
          "execution_count": 37
        }
      ]
    },
    {
      "cell_type": "code",
      "source": [
        "df['Marathi'].values"
      ],
      "metadata": {
        "id": "e_kq9RQeX397",
        "colab": {
          "base_uri": "https://localhost:8080/"
        },
        "outputId": "1d7f7b34-b5b7-4847-fb57-d8776fe0ee6b"
      },
      "execution_count": null,
      "outputs": [
        {
          "output_type": "execute_result",
          "data": {
            "text/plain": [
              "array(['sos Marathi eos', 'sos जा eos', 'sos पळ eos', ...,\n",
              "       'sos टॉमने त्याचा जुना व्हीसीआर फेकून टाकण्याऐवजी विकून टाकण्याचा प्रयत्न केला पण विकत घ्यायला कोणीच तयार नव्हतं म्हणून त्याला तो शेवटी फेकूनच टाकायला लागला eos',\n",
              "       'sos आयपॅडवर फ्लॅश आशय बघता येत नाही पण तुम्ही त्या वेब पानांचे यूआरएल स्वतःला ईमेल करून तोच आशय घरी पोहोचल्यावर आपल्या रोजच्या संगणकावर पाहू शकता eos',\n",
              "       'sos मध्ये रॉजर मिलरने यू डोन्ट वॉन्ट माय लव्ह नावाचं गाणं रेकॉर्ड केलं आज हे गाणं इन द समर टाइम म्हणून जास्त प्रसिद्ध आहे त्याने लिहिलेलं व गायलेलं हे असं पहिलं गाणं होतं जे लोकप्रिय झालं eos'],\n",
              "      dtype=object)"
            ]
          },
          "metadata": {},
          "execution_count": 38
        }
      ]
    },
    {
      "cell_type": "code",
      "source": [
        "train_preprocessed_input = df['English'].to_numpy()\n",
        "train_preprocessed_target = df['Marathi'].to_numpy()\n",
        "train_preprocessed_input"
      ],
      "metadata": {
        "colab": {
          "base_uri": "https://localhost:8080/"
        },
        "id": "vU7308fJfFrl",
        "outputId": "d28f1344-f5b5-471a-e33a-78644adb9d47"
      },
      "execution_count": null,
      "outputs": [
        {
          "output_type": "execute_result",
          "data": {
            "text/plain": [
              "array(['english', 'go', 'run', ...,\n",
              "       'tom tried to sell his old vcr instead of throwing it away but no one would buy it so he ended up throwing it away',\n",
              "       'you cannot view flash content on an ipad however you can easily email yourself the urls of these web pages and view that content on your regular computer when you get home',\n",
              "       'in roger miller recorded a song called you do not want my love today this song is better known as in the summer time it is the first song he wrote and sang that became popular'],\n",
              "      dtype=object)"
            ]
          },
          "metadata": {},
          "execution_count": 39
        }
      ]
    },
    {
      "cell_type": "code",
      "source": [
        "\n",
        "source_tokenizer = tf.keras.preprocessing.text.Tokenizer(oov_token='<unk>')\n",
        "source_tokenizer.fit_on_texts(train_preprocessed_input)\n",
        "# source_tokenizer.get_config()"
      ],
      "metadata": {
        "id": "LvDQMYadeqFT"
      },
      "execution_count": null,
      "outputs": []
    },
    {
      "cell_type": "code",
      "source": [
        "source_vocab_size = len(source_tokenizer.word_index) + 1\n",
        "print(source_vocab_size)"
      ],
      "metadata": {
        "colab": {
          "base_uri": "https://localhost:8080/"
        },
        "id": "JVj1cQIejvW3",
        "outputId": "b8024974-0d33-4ab8-f1e4-be756ff23768"
      },
      "execution_count": null,
      "outputs": [
        {
          "output_type": "stream",
          "name": "stdout",
          "text": [
            "5642\n"
          ]
        }
      ]
    },
    {
      "cell_type": "code",
      "source": [
        "target_tokenizer = tf.keras.preprocessing.text.Tokenizer(oov_token='<unk>')\n",
        "target_tokenizer.fit_on_texts(train_preprocessed_target)\n",
        "# target_tokenizer.get_config()"
      ],
      "metadata": {
        "id": "P1LvEm8Om90c"
      },
      "execution_count": null,
      "outputs": []
    },
    {
      "cell_type": "code",
      "source": [
        "target_vocab_size = len(target_tokenizer.word_index) + 1\n",
        "print(target_vocab_size)"
      ],
      "metadata": {
        "colab": {
          "base_uri": "https://localhost:8080/"
        },
        "id": "onWQJQAEnaMy",
        "outputId": "114f852e-6fac-43d5-a509-909266a8c1ec"
      },
      "execution_count": null,
      "outputs": [
        {
          "output_type": "stream",
          "name": "stdout",
          "text": [
            "13722\n"
          ]
        }
      ]
    },
    {
      "cell_type": "code",
      "source": [
        "train_encoder_inputs = source_tokenizer.texts_to_sequences(train_preprocessed_input)\n",
        "print(train_encoder_inputs[:3])\n",
        "print(source_tokenizer.sequences_to_texts(train_encoder_inputs[:3]))"
      ],
      "metadata": {
        "colab": {
          "base_uri": "https://localhost:8080/"
        },
        "id": "uIQ4v9T7h58y",
        "outputId": "cabb7d93-d539-4a5e-aaa0-bc9120a2f3a2"
      },
      "execution_count": null,
      "outputs": [
        {
          "output_type": "stream",
          "name": "stdout",
          "text": [
            "[[96], [39], [400]]\n",
            "['english', 'go', 'run']\n"
          ]
        }
      ]
    },
    {
      "cell_type": "code",
      "source": [],
      "metadata": {
        "id": "CSncQyKZmNgl"
      },
      "execution_count": null,
      "outputs": []
    },
    {
      "cell_type": "code",
      "source": [
        "def generate_decoder_inputs_targets(sentences, tokenizer):\n",
        "  seqs = tokenizer.texts_to_sequences(sentences)\n",
        "  decoder_inputs = [s[:-1] for s in seqs] # Drop the last token in the sentence.\n",
        "  decoder_targets = [s[1:] for s in seqs] # Drop the first token in the sentence.\n",
        "\n",
        "  return decoder_inputs, decoder_targets"
      ],
      "metadata": {
        "id": "8lfkQdmzmbjf"
      },
      "execution_count": null,
      "outputs": []
    },
    {
      "cell_type": "code",
      "source": [
        "train_decoder_inputs, train_decoder_targets = generate_decoder_inputs_targets(train_preprocessed_target ,\n",
        "                                                                              target_tokenizer)"
      ],
      "metadata": {
        "id": "zI41HjlFntuc"
      },
      "execution_count": null,
      "outputs": []
    },
    {
      "cell_type": "code",
      "source": [
        "# train_decoder_inputs[:3]\n",
        "# train_preprocessed_target\n",
        "# print(target_tokenizer.sequences_to_texts(train_decoder_inputs[:3]))"
      ],
      "metadata": {
        "id": "AsaIz5ANzMfk"
      },
      "execution_count": null,
      "outputs": []
    },
    {
      "cell_type": "code",
      "source": [
        "max_encoding_len = len(max(train_encoder_inputs, key=len))\n",
        "max_encoding_len"
      ],
      "metadata": {
        "colab": {
          "base_uri": "https://localhost:8080/"
        },
        "id": "GCRx-Kwg12pC",
        "outputId": "41e89d2b-7c7e-4ef6-b1a4-ff4c5d0d56a5"
      },
      "execution_count": null,
      "outputs": [
        {
          "output_type": "execute_result",
          "data": {
            "text/plain": [
              "36"
            ]
          },
          "metadata": {},
          "execution_count": 48
        }
      ]
    },
    {
      "cell_type": "code",
      "source": [
        "max_decoding_len = len(max(train_decoder_inputs, key=len))\n",
        "max_decoding_len"
      ],
      "metadata": {
        "colab": {
          "base_uri": "https://localhost:8080/"
        },
        "id": "8y5jLKhO16Ot",
        "outputId": "1b8344ea-81e2-45f7-c0d3-34bff03b3686"
      },
      "execution_count": null,
      "outputs": [
        {
          "output_type": "execute_result",
          "data": {
            "text/plain": [
              "36"
            ]
          },
          "metadata": {},
          "execution_count": 49
        }
      ]
    },
    {
      "cell_type": "code",
      "source": [
        "padded_train_encoder_inputs = pad_sequences(train_encoder_inputs, max_encoding_len, padding='post', truncating='post')\n",
        "padded_train_decoder_inputs = pad_sequences(train_decoder_inputs, max_decoding_len, padding='post', truncating='post')\n",
        "padded_train_decoder_targets = pad_sequences(train_decoder_targets, max_decoding_len, padding='post', truncating='post')"
      ],
      "metadata": {
        "id": "PoofNAcF2Ey_"
      },
      "execution_count": null,
      "outputs": []
    },
    {
      "cell_type": "code",
      "source": [
        "print(padded_train_encoder_inputs[689])\n",
        "print(padded_train_decoder_inputs[689])\n",
        "print(padded_train_decoder_targets[689])"
      ],
      "metadata": {
        "colab": {
          "base_uri": "https://localhost:8080/"
        },
        "id": "ue_FAtXe2LM6",
        "outputId": "4ad6d4a4-aa85-41e3-9a6f-036a63d2ad47"
      },
      "execution_count": null,
      "outputs": [
        {
          "output_type": "stream",
          "name": "stdout",
          "text": [
            "[1650   54    0    0    0    0    0    0    0    0    0    0    0    0\n",
            "    0    0    0    0    0    0    0    0    0    0    0    0    0    0\n",
            "    0    0    0    0    0    0    0    0]\n",
            "[  2 459 906 162   0   0   0   0   0   0   0   0   0   0   0   0   0   0\n",
            "   0   0   0   0   0   0   0   0   0   0   0   0   0   0   0   0   0   0]\n",
            "[459 906 162   3   0   0   0   0   0   0   0   0   0   0   0   0   0   0\n",
            "   0   0   0   0   0   0   0   0   0   0   0   0   0   0   0   0   0   0]\n"
          ]
        }
      ]
    },
    {
      "cell_type": "markdown",
      "source": [],
      "metadata": {
        "id": "zlSYkqvx27vx"
      }
    },
    {
      "cell_type": "code",
      "source": [
        "target_tokenizer.sequences_to_texts([padded_train_decoder_inputs[689]])"
      ],
      "metadata": {
        "colab": {
          "base_uri": "https://localhost:8080/"
        },
        "id": "MZvmzTrG2LTI",
        "outputId": "49778c2e-9ced-40f6-aa46-915beca5f69f"
      },
      "execution_count": null,
      "outputs": [
        {
          "output_type": "execute_result",
          "data": {
            "text/plain": [
              "['sos त्यांचा पाठलाग करा <unk> <unk> <unk> <unk> <unk> <unk> <unk> <unk> <unk> <unk> <unk> <unk> <unk> <unk> <unk> <unk> <unk> <unk> <unk> <unk> <unk> <unk> <unk> <unk> <unk> <unk> <unk> <unk> <unk> <unk> <unk> <unk>']"
            ]
          },
          "metadata": {},
          "execution_count": 52
        }
      ]
    },
    {
      "cell_type": "code",
      "source": [
        "embedding_dim = 128\n",
        "hidden_dim = 256\n",
        "default_dropout=0.2\n",
        "batch_size = 32\n",
        "epochs = 30"
      ],
      "metadata": {
        "id": "r7V-h0W228m6"
      },
      "execution_count": null,
      "outputs": []
    },
    {
      "cell_type": "code",
      "source": [
        "# The initial encoder input layer which will take in padded sequences. We're specifying\n",
        "# a shape of None here but you can specify it upfront if you want since we\n",
        "# know what the max encoding length is.\n",
        "encoder_inputs = layers.Input(shape=[None], name='encoder_inputs')\n",
        "\n",
        "# The embedding layer. Similar to what we did in the RNN demo.\n",
        "encoder_embeddings = layers.Embedding(source_vocab_size,\n",
        "                                      embedding_dim,\n",
        "                                      mask_zero=True,\n",
        "                                      name='encoder_embeddings')\n",
        "\n",
        "# Passing the input layer output to the embedding layer creates a link between the\n",
        "# two. Input sequences will now flow into the embedding layer which will output\n",
        "# a sequence of embeddings.\n",
        "encoder_embedding_output = encoder_embeddings(encoder_inputs)\n",
        "\n",
        "\n",
        "# We're not using any kind of attention mechanism in this model, so setting only\n",
        "# return_state to True is enough. return_sequences remains False.\n",
        "encoder_lstm = layers.LSTM(hidden_dim,\n",
        "                           return_state=True,\n",
        "                           dropout=default_dropout,\n",
        "                           name='encoder_lstm')\n",
        "\n",
        "# Passing the embedding layer output to the LSTM layer creates another link.\n",
        "# IMPORTANT: The LSTM always returns three values. When return_sequences is\n",
        "# False, encoder_outputs and state_h are the SAME. When return_sequences is\n",
        "# True, encoder_outputs contains the encoder hidden states from each time step.\n",
        "#\n",
        "# Side note: we won't be using encoder_outputs here so that variable can be\n",
        "# replaced with a _ if preferred.\n",
        "encoder_outputs, state_h, state_c = encoder_lstm(encoder_embedding_output)\n",
        "\n",
        "# The final hidden and cell/context states from the encoder will be the the\n",
        "# initial states for the decoder.\n",
        "encoder_states = (state_h, state_c)"
      ],
      "metadata": {
        "id": "blFcROKj30NF"
      },
      "execution_count": null,
      "outputs": []
    },
    {
      "cell_type": "code",
      "source": [
        "decoder_inputs = layers.Input(shape=[None], name='decoder_inputs')\n",
        "\n",
        "\n",
        "decoder_embeddings = layers.Embedding(target_vocab_size,\n",
        "                                      embedding_dim,\n",
        "                                      mask_zero=True,\n",
        "                                      name='decoder_embeddings')\n",
        "\n",
        "\n",
        "decoder_embedding_output = decoder_embeddings(decoder_inputs)\n",
        "\n",
        "# Return sequences set to True.\n",
        "decoder_lstm = layers.LSTM(hidden_dim,\n",
        "                           return_sequences=True,\n",
        "                           return_state=True,\n",
        "                           dropout=default_dropout,\n",
        "                           name='decoder_lstm')\n",
        "\n",
        "\n",
        "# Set the decoder's initial state to the encoder's final output states. Since\n",
        "# return_sequences is set to True, decoder_outputs is going to be a collection of\n",
        "# the decoder's hidden state at each timestep. Also note that since we don't need\n",
        "# the decoder's final hidden output and cell states, those are just set to _.\n",
        "decoder_outputs, _, _ = decoder_lstm(decoder_embedding_output, initial_state=encoder_states)\n",
        "\n",
        "# Have a softmax layer in the end to create a probability distribution for the output word.\n",
        "decoder_dense = layers.Dense(target_vocab_size, activation='softmax', name='decoder_dense')\n",
        "\n",
        "# The probability distribution for the output word.\n",
        "y_proba = decoder_dense(decoder_outputs)\n"
      ],
      "metadata": {
        "id": "FDA47Ao2lEnj"
      },
      "execution_count": null,
      "outputs": []
    },
    {
      "cell_type": "code",
      "source": [
        "# Note how the model is taking two inputs in an array.\n",
        "model = tf.keras.Model([encoder_inputs, decoder_inputs], y_proba, name='eng_to_mar_model')\n",
        "\n",
        "model.compile(optimizer='adam', loss='sparse_categorical_crossentropy',  metrics='sparse_categorical_accuracy')\n",
        "model.summary()"
      ],
      "metadata": {
        "colab": {
          "base_uri": "https://localhost:8080/"
        },
        "id": "Hlc-V32nQITp",
        "outputId": "a8763548-6d35-4b9b-d768-05458414c0bc"
      },
      "execution_count": null,
      "outputs": [
        {
          "output_type": "stream",
          "name": "stdout",
          "text": [
            "Model: \"eng_to_mar_model\"\n",
            "__________________________________________________________________________________________________\n",
            " Layer (type)                Output Shape                 Param #   Connected to                  \n",
            "==================================================================================================\n",
            " encoder_inputs (InputLayer  [(None, None)]               0         []                            \n",
            " )                                                                                                \n",
            "                                                                                                  \n",
            " decoder_inputs (InputLayer  [(None, None)]               0         []                            \n",
            " )                                                                                                \n",
            "                                                                                                  \n",
            " encoder_embeddings (Embedd  (None, None, 128)            722176    ['encoder_inputs[0][0]']      \n",
            " ing)                                                                                             \n",
            "                                                                                                  \n",
            " decoder_embeddings (Embedd  (None, None, 128)            1756416   ['decoder_inputs[0][0]']      \n",
            " ing)                                                                                             \n",
            "                                                                                                  \n",
            " encoder_lstm (LSTM)         [(None, 256),                394240    ['encoder_embeddings[0][0]']  \n",
            "                              (None, 256),                                                        \n",
            "                              (None, 256)]                                                        \n",
            "                                                                                                  \n",
            " decoder_lstm (LSTM)         [(None, None, 256),          394240    ['decoder_embeddings[0][0]',  \n",
            "                              (None, 256),                           'encoder_lstm[0][1]',        \n",
            "                              (None, 256)]                           'encoder_lstm[0][2]']        \n",
            "                                                                                                  \n",
            " decoder_dense (Dense)       (None, None, 13722)          3526554   ['decoder_lstm[0][0]']        \n",
            "                                                                                                  \n",
            "==================================================================================================\n",
            "Total params: 6793626 (25.92 MB)\n",
            "Trainable params: 6793626 (25.92 MB)\n",
            "Non-trainable params: 0 (0.00 Byte)\n",
            "__________________________________________________________________________________________________\n"
          ]
        }
      ]
    },
    {
      "cell_type": "code",
      "source": [
        "\n",
        "\n",
        "from tensorflow.keras.utils import plot_model\n",
        "\n",
        "# Assuming 'model' is your Keras model\n",
        "plot_model(model, to_file='eng_to_mar_model.png', show_shapes=True, show_layer_names=True)"
      ],
      "metadata": {
        "colab": {
          "base_uri": "https://localhost:8080/",
          "height": 533
        },
        "id": "RqhiZh-Pg4hJ",
        "outputId": "e36ebfd8-6dfc-4225-847b-ed4681c384b0"
      },
      "execution_count": null,
      "outputs": [
        {
          "output_type": "execute_result",
          "data": {
            "image/png": "[encoded data removed]",
            "text/plain": [
              "<IPython.core.display.Image object>"
            ]
          },
          "metadata": {},
          "execution_count": 57
        }
      ]
    },
    {
      "cell_type": "code",
      "source": [
        "print('encoder_inputs layer\\n input dimension {}\\n output dimension: {}'.format((batch_size, max_encoding_len), (batch_size, max_encoding_len)))\n",
        "print()\n",
        "print('encoder_embeddings layer\\n input dimension {}\\n output dimension: {}'.format((batch_size, max_encoding_len), (batch_size, max_encoding_len, embedding_dim)))\n",
        "print()\n",
        "print('encoder_lstm layer\\n input dimension {}\\n output dimension: {}'.format((batch_size, max_encoding_len, embedding_dim), [(batch_size, hidden_dim), (batch_size, hidden_dim), (batch_size, hidden_dim)]))\n",
        "print()\n",
        "print()\n",
        "print('decoder_inputs layer\\n input dimension {}\\n output dimension: {}'.format((batch_size, max_decoding_len), (batch_size, max_decoding_len)))\n",
        "print()\n",
        "print('decoder_embeddings layer\\n input dimension {}\\n output dimension: {}'.format((batch_size, max_decoding_len), (batch_size, max_decoding_len, embedding_dim)))\n",
        "print()\n",
        "print('decoder_lstm layer\\n input dimension {}\\n output dimension: {}'.format([(batch_size, max_decoding_len, embedding_dim), (batch_size, hidden_dim), (batch_size, hidden_dim)], [(batch_size, max_decoding_len, hidden_dim), (batch_size, hidden_dim), (batch_size, hidden_dim)]))\n",
        "print()\n",
        "print('decoder_dense layer(softmax)\\n input dimension {}\\n output dimension: {}'.format((batch_size, max_decoding_len, hidden_dim), (batch_size, max_decoding_len, target_vocab_size)))"
      ],
      "metadata": {
        "colab": {
          "base_uri": "https://localhost:8080/"
        },
        "id": "jluUzT3ThLB3",
        "outputId": "17ba2c4f-35fa-4bae-94ea-acd4ed218475"
      },
      "execution_count": null,
      "outputs": [
        {
          "output_type": "stream",
          "name": "stdout",
          "text": [
            "encoder_inputs layer\n",
            " input dimension (32, 36)\n",
            " output dimension: (32, 36)\n",
            "\n",
            "encoder_embeddings layer\n",
            " input dimension (32, 36)\n",
            " output dimension: (32, 36, 128)\n",
            "\n",
            "encoder_lstm layer\n",
            " input dimension (32, 36, 128)\n",
            " output dimension: [(32, 256), (32, 256), (32, 256)]\n",
            "\n",
            "\n",
            "decoder_inputs layer\n",
            " input dimension (32, 36)\n",
            " output dimension: (32, 36)\n",
            "\n",
            "decoder_embeddings layer\n",
            " input dimension (32, 36)\n",
            " output dimension: (32, 36, 128)\n",
            "\n",
            "decoder_lstm layer\n",
            " input dimension [(32, 36, 128), (32, 256), (32, 256)]\n",
            " output dimension: [(32, 36, 256), (32, 256), (32, 256)]\n",
            "\n",
            "decoder_dense layer(softmax)\n",
            " input dimension (32, 36, 256)\n",
            " output dimension: (32, 36, 13722)\n"
          ]
        }
      ]
    },
    {
      "cell_type": "code",
      "source": [
        "# Saving this to a folder on my collab\n",
        "filepath=\"model_weights.h5\"\n",
        "\n",
        "# Create a callback that saves the model's weights\n",
        "cp_callback = tf.keras.callbacks.ModelCheckpoint(filepath=filepath,\n",
        "                                                 save_weights_only=True,\n",
        "                                                 verbose=1)"
      ],
      "metadata": {
        "id": "Zpg39Qz-hUD7"
      },
      "execution_count": null,
      "outputs": []
    },
    {
      "cell_type": "code",
      "source": [
        "es_callback = tf.keras.callbacks.EarlyStopping(monitor='val_loss', patience=3)\n",
        "\n",
        "history = model.fit([padded_train_encoder_inputs, padded_train_decoder_inputs], padded_train_decoder_targets,\n",
        "                     batch_size=batch_size,\n",
        "                     epochs=epochs,\n",
        "                    #  validation_data=([padded_val_encoder_inputs, padded_val_decoder_inputs], padded_val_decoder_targets),\n",
        "                     callbacks=[cp_callback, es_callback])"
      ],
      "metadata": {
        "colab": {
          "base_uri": "https://localhost:8080/"
        },
        "id": "iuV02K_6rDEr",
        "outputId": "3e386dd4-ac3e-4186-9bea-ee2b0d186043"
      },
      "execution_count": null,
      "outputs": [
        {
          "output_type": "stream",
          "name": "stdout",
          "text": [
            "Epoch 1/30\n",
            "1283/1283 [==============================] - ETA: 0s - loss: 5.5087 - sparse_categorical_accuracy: 0.2290\n",
            "Epoch 1: saving model to model_weights.h5\n"
          ]
        },
        {
          "output_type": "stream",
          "name": "stderr",
          "text": [
            "WARNING:tensorflow:Early stopping conditioned on metric `val_loss` which is not available. Available metrics are: loss,sparse_categorical_accuracy\n"
          ]
        },
        {
          "output_type": "stream",
          "name": "stdout",
          "text": [
            "\b\b\b\b\b\b\b\b\b\b\b\b\b\b\b\b\b\b\b\b\b\b\b\b\b\b\b\b\b\b\b\b\b\b\b\b\b\b\b\b\b\b\b\b\b\b\b\b\b\b\b\b\b\b\b\b\b\b\b\b\b\b\b\b\b\b\b\b\b\b\b\b\b\b\b\b\b\b\b\b\b\b\b\b\b\b\b\b\b\b\b\b\b\b\b\b\b\b\b\b\b\b\b\b\b\r1283/1283 [==============================] - 71s 43ms/step - loss: 5.5087 - sparse_categorical_accuracy: 0.2290\n",
            "Epoch 2/30\n",
            "1283/1283 [==============================] - ETA: 0s - loss: 4.1913 - sparse_categorical_accuracy: 0.3403\n",
            "Epoch 2: saving model to model_weights.h5\n"
          ]
        },
        {
          "output_type": "stream",
          "name": "stderr",
          "text": [
            "WARNING:tensorflow:Early stopping conditioned on metric `val_loss` which is not available. Available metrics are: loss,sparse_categorical_accuracy\n"
          ]
        },
        {
          "output_type": "stream",
          "name": "stdout",
          "text": [
            "\b\b\b\b\b\b\b\b\b\b\b\b\b\b\b\b\b\b\b\b\b\b\b\b\b\b\b\b\b\b\b\b\b\b\b\b\b\b\b\b\b\b\b\b\b\b\b\b\b\b\b\b\b\b\b\b\b\b\b\b\b\b\b\b\b\b\b\b\b\b\b\b\b\b\b\b\b\b\b\b\b\b\b\b\b\b\b\b\b\b\b\b\b\b\b\b\b\b\b\b\b\b\b\b\b\r1283/1283 [==============================] - 46s 36ms/step - loss: 4.1913 - sparse_categorical_accuracy: 0.3403\n",
            "Epoch 3/30\n",
            "1283/1283 [==============================] - ETA: 0s - loss: 3.1951 - sparse_categorical_accuracy: 0.4388\n",
            "Epoch 3: saving model to model_weights.h5\n"
          ]
        },
        {
          "output_type": "stream",
          "name": "stderr",
          "text": [
            "WARNING:tensorflow:Early stopping conditioned on metric `val_loss` which is not available. Available metrics are: loss,sparse_categorical_accuracy\n"
          ]
        },
        {
          "output_type": "stream",
          "name": "stdout",
          "text": [
            "\b\b\b\b\b\b\b\b\b\b\b\b\b\b\b\b\b\b\b\b\b\b\b\b\b\b\b\b\b\b\b\b\b\b\b\b\b\b\b\b\b\b\b\b\b\b\b\b\b\b\b\b\b\b\b\b\b\b\b\b\b\b\b\b\b\b\b\b\b\b\b\b\b\b\b\b\b\b\b\b\b\b\b\b\b\b\b\b\b\b\b\b\b\b\b\b\b\b\b\b\b\b\b\b\b\r1283/1283 [==============================] - 46s 36ms/step - loss: 3.1951 - sparse_categorical_accuracy: 0.4388\n",
            "Epoch 4/30\n",
            "1283/1283 [==============================] - ETA: 0s - loss: 2.4761 - sparse_categorical_accuracy: 0.5197\n",
            "Epoch 4: saving model to model_weights.h5\n"
          ]
        },
        {
          "output_type": "stream",
          "name": "stderr",
          "text": [
            "WARNING:tensorflow:Early stopping conditioned on metric `val_loss` which is not available. Available metrics are: loss,sparse_categorical_accuracy\n"
          ]
        },
        {
          "output_type": "stream",
          "name": "stdout",
          "text": [
            "\b\b\b\b\b\b\b\b\b\b\b\b\b\b\b\b\b\b\b\b\b\b\b\b\b\b\b\b\b\b\b\b\b\b\b\b\b\b\b\b\b\b\b\b\b\b\b\b\b\b\b\b\b\b\b\b\b\b\b\b\b\b\b\b\b\b\b\b\b\b\b\b\b\b\b\b\b\b\b\b\b\b\b\b\b\b\b\b\b\b\b\b\b\b\b\b\b\b\b\b\b\b\b\b\b\r1283/1283 [==============================] - 46s 36ms/step - loss: 2.4761 - sparse_categorical_accuracy: 0.5197\n",
            "Epoch 5/30\n",
            "1283/1283 [==============================] - ETA: 0s - loss: 1.9390 - sparse_categorical_accuracy: 0.5908\n",
            "Epoch 5: saving model to model_weights.h5\n"
          ]
        },
        {
          "output_type": "stream",
          "name": "stderr",
          "text": [
            "WARNING:tensorflow:Early stopping conditioned on metric `val_loss` which is not available. Available metrics are: loss,sparse_categorical_accuracy\n"
          ]
        },
        {
          "output_type": "stream",
          "name": "stdout",
          "text": [
            "\b\b\b\b\b\b\b\b\b\b\b\b\b\b\b\b\b\b\b\b\b\b\b\b\b\b\b\b\b\b\b\b\b\b\b\b\b\b\b\b\b\b\b\b\b\b\b\b\b\b\b\b\b\b\b\b\b\b\b\b\b\b\b\b\b\b\b\b\b\b\b\b\b\b\b\b\b\b\b\b\b\b\b\b\b\b\b\b\b\b\b\b\b\b\b\b\b\b\b\b\b\b\b\b\b\r1283/1283 [==============================] - 49s 38ms/step - loss: 1.9390 - sparse_categorical_accuracy: 0.5908\n",
            "Epoch 6/30\n",
            "1283/1283 [==============================] - ETA: 0s - loss: 1.5402 - sparse_categorical_accuracy: 0.6499\n",
            "Epoch 6: saving model to model_weights.h5\n"
          ]
        },
        {
          "output_type": "stream",
          "name": "stderr",
          "text": [
            "WARNING:tensorflow:Early stopping conditioned on metric `val_loss` which is not available. Available metrics are: loss,sparse_categorical_accuracy\n"
          ]
        },
        {
          "output_type": "stream",
          "name": "stdout",
          "text": [
            "\b\b\b\b\b\b\b\b\b\b\b\b\b\b\b\b\b\b\b\b\b\b\b\b\b\b\b\b\b\b\b\b\b\b\b\b\b\b\b\b\b\b\b\b\b\b\b\b\b\b\b\b\b\b\b\b\b\b\b\b\b\b\b\b\b\b\b\b\b\b\b\b\b\b\b\b\b\b\b\b\b\b\b\b\b\b\b\b\b\b\b\b\b\b\b\b\b\b\b\b\b\b\b\b\b\r1283/1283 [==============================] - 47s 36ms/step - loss: 1.5402 - sparse_categorical_accuracy: 0.6499\n",
            "Epoch 7/30\n",
            "1282/1283 [============================>.] - ETA: 0s - loss: 1.2418 - sparse_categorical_accuracy: 0.7027\n",
            "Epoch 7: saving model to model_weights.h5\n"
          ]
        },
        {
          "output_type": "stream",
          "name": "stderr",
          "text": [
            "WARNING:tensorflow:Early stopping conditioned on metric `val_loss` which is not available. Available metrics are: loss,sparse_categorical_accuracy\n"
          ]
        },
        {
          "output_type": "stream",
          "name": "stdout",
          "text": [
            "\b\b\b\b\b\b\b\b\b\b\b\b\b\b\b\b\b\b\b\b\b\b\b\b\b\b\b\b\b\b\b\b\b\b\b\b\b\b\b\b\b\b\b\b\b\b\b\b\b\b\b\b\b\b\b\b\b\b\b\b\b\b\b\b\b\b\b\b\b\b\b\b\b\b\b\b\b\b\b\b\b\b\b\b\b\b\b\b\b\b\b\b\b\b\b\b\b\b\b\b\b\b\b\b\b\r1283/1283 [==============================] - 47s 36ms/step - loss: 1.2418 - sparse_categorical_accuracy: 0.7027\n",
            "Epoch 8/30\n",
            "1282/1283 [============================>.] - ETA: 0s - loss: 1.0199 - sparse_categorical_accuracy: 0.7450\n",
            "Epoch 8: saving model to model_weights.h5\n"
          ]
        },
        {
          "output_type": "stream",
          "name": "stderr",
          "text": [
            "WARNING:tensorflow:Early stopping conditioned on metric `val_loss` which is not available. Available metrics are: loss,sparse_categorical_accuracy\n"
          ]
        },
        {
          "output_type": "stream",
          "name": "stdout",
          "text": [
            "\b\b\b\b\b\b\b\b\b\b\b\b\b\b\b\b\b\b\b\b\b\b\b\b\b\b\b\b\b\b\b\b\b\b\b\b\b\b\b\b\b\b\b\b\b\b\b\b\b\b\b\b\b\b\b\b\b\b\b\b\b\b\b\b\b\b\b\b\b\b\b\b\b\b\b\b\b\b\b\b\b\b\b\b\b\b\b\b\b\b\b\b\b\b\b\b\b\b\b\b\b\b\b\b\b\r1283/1283 [==============================] - 46s 36ms/step - loss: 1.0199 - sparse_categorical_accuracy: 0.7450\n",
            "Epoch 9/30\n",
            "1283/1283 [==============================] - ETA: 0s - loss: 0.8544 - sparse_categorical_accuracy: 0.7777\n",
            "Epoch 9: saving model to model_weights.h5\n"
          ]
        },
        {
          "output_type": "stream",
          "name": "stderr",
          "text": [
            "WARNING:tensorflow:Early stopping conditioned on metric `val_loss` which is not available. Available metrics are: loss,sparse_categorical_accuracy\n"
          ]
        },
        {
          "output_type": "stream",
          "name": "stdout",
          "text": [
            "\b\b\b\b\b\b\b\b\b\b\b\b\b\b\b\b\b\b\b\b\b\b\b\b\b\b\b\b\b\b\b\b\b\b\b\b\b\b\b\b\b\b\b\b\b\b\b\b\b\b\b\b\b\b\b\b\b\b\b\b\b\b\b\b\b\b\b\b\b\b\b\b\b\b\b\b\b\b\b\b\b\b\b\b\b\b\b\b\b\b\b\b\b\b\b\b\b\b\b\b\b\b\b\b\b\r1283/1283 [==============================] - 45s 35ms/step - loss: 0.8544 - sparse_categorical_accuracy: 0.7777\n",
            "Epoch 10/30\n",
            "1283/1283 [==============================] - ETA: 0s - loss: 0.7312 - sparse_categorical_accuracy: 0.8021\n",
            "Epoch 10: saving model to model_weights.h5\n"
          ]
        },
        {
          "output_type": "stream",
          "name": "stderr",
          "text": [
            "WARNING:tensorflow:Early stopping conditioned on metric `val_loss` which is not available. Available metrics are: loss,sparse_categorical_accuracy\n"
          ]
        },
        {
          "output_type": "stream",
          "name": "stdout",
          "text": [
            "\b\b\b\b\b\b\b\b\b\b\b\b\b\b\b\b\b\b\b\b\b\b\b\b\b\b\b\b\b\b\b\b\b\b\b\b\b\b\b\b\b\b\b\b\b\b\b\b\b\b\b\b\b\b\b\b\b\b\b\b\b\b\b\b\b\b\b\b\b\b\b\b\b\b\b\b\b\b\b\b\b\b\b\b\b\b\b\b\b\b\b\b\b\b\b\b\b\b\b\b\b\b\b\b\b\r1283/1283 [==============================] - 46s 36ms/step - loss: 0.7312 - sparse_categorical_accuracy: 0.8021\n",
            "Epoch 11/30\n",
            "1283/1283 [==============================] - ETA: 0s - loss: 0.6356 - sparse_categorical_accuracy: 0.8219\n",
            "Epoch 11: saving model to model_weights.h5\n"
          ]
        },
        {
          "output_type": "stream",
          "name": "stderr",
          "text": [
            "WARNING:tensorflow:Early stopping conditioned on metric `val_loss` which is not available. Available metrics are: loss,sparse_categorical_accuracy\n"
          ]
        },
        {
          "output_type": "stream",
          "name": "stdout",
          "text": [
            "\b\b\b\b\b\b\b\b\b\b\b\b\b\b\b\b\b\b\b\b\b\b\b\b\b\b\b\b\b\b\b\b\b\b\b\b\b\b\b\b\b\b\b\b\b\b\b\b\b\b\b\b\b\b\b\b\b\b\b\b\b\b\b\b\b\b\b\b\b\b\b\b\b\b\b\b\b\b\b\b\b\b\b\b\b\b\b\b\b\b\b\b\b\b\b\b\b\b\b\b\b\b\b\b\b\r1283/1283 [==============================] - 46s 36ms/step - loss: 0.6356 - sparse_categorical_accuracy: 0.8219\n",
            "Epoch 12/30\n",
            "1283/1283 [==============================] - ETA: 0s - loss: 0.5595 - sparse_categorical_accuracy: 0.8384\n",
            "Epoch 12: saving model to model_weights.h5\n"
          ]
        },
        {
          "output_type": "stream",
          "name": "stderr",
          "text": [
            "WARNING:tensorflow:Early stopping conditioned on metric `val_loss` which is not available. Available metrics are: loss,sparse_categorical_accuracy\n"
          ]
        },
        {
          "output_type": "stream",
          "name": "stdout",
          "text": [
            "\b\b\b\b\b\b\b\b\b\b\b\b\b\b\b\b\b\b\b\b\b\b\b\b\b\b\b\b\b\b\b\b\b\b\b\b\b\b\b\b\b\b\b\b\b\b\b\b\b\b\b\b\b\b\b\b\b\b\b\b\b\b\b\b\b\b\b\b\b\b\b\b\b\b\b\b\b\b\b\b\b\b\b\b\b\b\b\b\b\b\b\b\b\b\b\b\b\b\b\b\b\b\b\b\b\r1283/1283 [==============================] - 45s 35ms/step - loss: 0.5595 - sparse_categorical_accuracy: 0.8384\n",
            "Epoch 13/30\n",
            "1283/1283 [==============================] - ETA: 0s - loss: 0.5053 - sparse_categorical_accuracy: 0.8490\n",
            "Epoch 13: saving model to model_weights.h5\n"
          ]
        },
        {
          "output_type": "stream",
          "name": "stderr",
          "text": [
            "WARNING:tensorflow:Early stopping conditioned on metric `val_loss` which is not available. Available metrics are: loss,sparse_categorical_accuracy\n"
          ]
        },
        {
          "output_type": "stream",
          "name": "stdout",
          "text": [
            "\b\b\b\b\b\b\b\b\b\b\b\b\b\b\b\b\b\b\b\b\b\b\b\b\b\b\b\b\b\b\b\b\b\b\b\b\b\b\b\b\b\b\b\b\b\b\b\b\b\b\b\b\b\b\b\b\b\b\b\b\b\b\b\b\b\b\b\b\b\b\b\b\b\b\b\b\b\b\b\b\b\b\b\b\b\b\b\b\b\b\b\b\b\b\b\b\b\b\b\b\b\b\b\b\b\r1283/1283 [==============================] - 45s 35ms/step - loss: 0.5053 - sparse_categorical_accuracy: 0.8490\n",
            "Epoch 14/30\n",
            "1283/1283 [==============================] - ETA: 0s - loss: 0.4559 - sparse_categorical_accuracy: 0.8593\n",
            "Epoch 14: saving model to model_weights.h5\n"
          ]
        },
        {
          "output_type": "stream",
          "name": "stderr",
          "text": [
            "WARNING:tensorflow:Early stopping conditioned on metric `val_loss` which is not available. Available metrics are: loss,sparse_categorical_accuracy\n"
          ]
        },
        {
          "output_type": "stream",
          "name": "stdout",
          "text": [
            "\b\b\b\b\b\b\b\b\b\b\b\b\b\b\b\b\b\b\b\b\b\b\b\b\b\b\b\b\b\b\b\b\b\b\b\b\b\b\b\b\b\b\b\b\b\b\b\b\b\b\b\b\b\b\b\b\b\b\b\b\b\b\b\b\b\b\b\b\b\b\b\b\b\b\b\b\b\b\b\b\b\b\b\b\b\b\b\b\b\b\b\b\b\b\b\b\b\b\b\b\b\b\b\b\b\r1283/1283 [==============================] - 45s 35ms/step - loss: 0.4559 - sparse_categorical_accuracy: 0.8593\n",
            "Epoch 15/30\n",
            "1283/1283 [==============================] - ETA: 0s - loss: 0.4191 - sparse_categorical_accuracy: 0.8678\n",
            "Epoch 15: saving model to model_weights.h5\n"
          ]
        },
        {
          "output_type": "stream",
          "name": "stderr",
          "text": [
            "WARNING:tensorflow:Early stopping conditioned on metric `val_loss` which is not available. Available metrics are: loss,sparse_categorical_accuracy\n"
          ]
        },
        {
          "output_type": "stream",
          "name": "stdout",
          "text": [
            "\b\b\b\b\b\b\b\b\b\b\b\b\b\b\b\b\b\b\b\b\b\b\b\b\b\b\b\b\b\b\b\b\b\b\b\b\b\b\b\b\b\b\b\b\b\b\b\b\b\b\b\b\b\b\b\b\b\b\b\b\b\b\b\b\b\b\b\b\b\b\b\b\b\b\b\b\b\b\b\b\b\b\b\b\b\b\b\b\b\b\b\b\b\b\b\b\b\b\b\b\b\b\b\b\b\r1283/1283 [==============================] - 45s 35ms/step - loss: 0.4191 - sparse_categorical_accuracy: 0.8678\n",
            "Epoch 16/30\n",
            "1283/1283 [==============================] - ETA: 0s - loss: 0.3906 - sparse_categorical_accuracy: 0.8726\n",
            "Epoch 16: saving model to model_weights.h5\n"
          ]
        },
        {
          "output_type": "stream",
          "name": "stderr",
          "text": [
            "WARNING:tensorflow:Early stopping conditioned on metric `val_loss` which is not available. Available metrics are: loss,sparse_categorical_accuracy\n"
          ]
        },
        {
          "output_type": "stream",
          "name": "stdout",
          "text": [
            "\b\b\b\b\b\b\b\b\b\b\b\b\b\b\b\b\b\b\b\b\b\b\b\b\b\b\b\b\b\b\b\b\b\b\b\b\b\b\b\b\b\b\b\b\b\b\b\b\b\b\b\b\b\b\b\b\b\b\b\b\b\b\b\b\b\b\b\b\b\b\b\b\b\b\b\b\b\b\b\b\b\b\b\b\b\b\b\b\b\b\b\b\b\b\b\b\b\b\b\b\b\b\b\b\b\r1283/1283 [==============================] - 45s 35ms/step - loss: 0.3906 - sparse_categorical_accuracy: 0.8726\n",
            "Epoch 17/30\n",
            "1283/1283 [==============================] - ETA: 0s - loss: 0.3662 - sparse_categorical_accuracy: 0.8787\n",
            "Epoch 17: saving model to model_weights.h5\n"
          ]
        },
        {
          "output_type": "stream",
          "name": "stderr",
          "text": [
            "WARNING:tensorflow:Early stopping conditioned on metric `val_loss` which is not available. Available metrics are: loss,sparse_categorical_accuracy\n"
          ]
        },
        {
          "output_type": "stream",
          "name": "stdout",
          "text": [
            "\b\b\b\b\b\b\b\b\b\b\b\b\b\b\b\b\b\b\b\b\b\b\b\b\b\b\b\b\b\b\b\b\b\b\b\b\b\b\b\b\b\b\b\b\b\b\b\b\b\b\b\b\b\b\b\b\b\b\b\b\b\b\b\b\b\b\b\b\b\b\b\b\b\b\b\b\b\b\b\b\b\b\b\b\b\b\b\b\b\b\b\b\b\b\b\b\b\b\b\b\b\b\b\b\b\r1283/1283 [==============================] - 45s 35ms/step - loss: 0.3662 - sparse_categorical_accuracy: 0.8787\n",
            "Epoch 18/30\n",
            "1282/1283 [============================>.] - ETA: 0s - loss: 0.3467 - sparse_categorical_accuracy: 0.8821\n",
            "Epoch 18: saving model to model_weights.h5\n"
          ]
        },
        {
          "output_type": "stream",
          "name": "stderr",
          "text": [
            "WARNING:tensorflow:Early stopping conditioned on metric `val_loss` which is not available. Available metrics are: loss,sparse_categorical_accuracy\n"
          ]
        },
        {
          "output_type": "stream",
          "name": "stdout",
          "text": [
            "\b\b\b\b\b\b\b\b\b\b\b\b\b\b\b\b\b\b\b\b\b\b\b\b\b\b\b\b\b\b\b\b\b\b\b\b\b\b\b\b\b\b\b\b\b\b\b\b\b\b\b\b\b\b\b\b\b\b\b\b\b\b\b\b\b\b\b\b\b\b\b\b\b\b\b\b\b\b\b\b\b\b\b\b\b\b\b\b\b\b\b\b\b\b\b\b\b\b\b\b\b\b\b\b\b\r1283/1283 [==============================] - 45s 35ms/step - loss: 0.3467 - sparse_categorical_accuracy: 0.8821\n",
            "Epoch 19/30\n",
            "1283/1283 [==============================] - ETA: 0s - loss: 0.3286 - sparse_categorical_accuracy: 0.8860\n",
            "Epoch 19: saving model to model_weights.h5\n"
          ]
        },
        {
          "output_type": "stream",
          "name": "stderr",
          "text": [
            "WARNING:tensorflow:Early stopping conditioned on metric `val_loss` which is not available. Available metrics are: loss,sparse_categorical_accuracy\n"
          ]
        },
        {
          "output_type": "stream",
          "name": "stdout",
          "text": [
            "\b\b\b\b\b\b\b\b\b\b\b\b\b\b\b\b\b\b\b\b\b\b\b\b\b\b\b\b\b\b\b\b\b\b\b\b\b\b\b\b\b\b\b\b\b\b\b\b\b\b\b\b\b\b\b\b\b\b\b\b\b\b\b\b\b\b\b\b\b\b\b\b\b\b\b\b\b\b\b\b\b\b\b\b\b\b\b\b\b\b\b\b\b\b\b\b\b\b\b\b\b\b\b\b\b\r1283/1283 [==============================] - 45s 35ms/step - loss: 0.3286 - sparse_categorical_accuracy: 0.8860\n",
            "Epoch 20/30\n",
            "1283/1283 [==============================] - ETA: 0s - loss: 0.3148 - sparse_categorical_accuracy: 0.8891\n",
            "Epoch 20: saving model to model_weights.h5\n"
          ]
        },
        {
          "output_type": "stream",
          "name": "stderr",
          "text": [
            "WARNING:tensorflow:Early stopping conditioned on metric `val_loss` which is not available. Available metrics are: loss,sparse_categorical_accuracy\n"
          ]
        },
        {
          "output_type": "stream",
          "name": "stdout",
          "text": [
            "\b\b\b\b\b\b\b\b\b\b\b\b\b\b\b\b\b\b\b\b\b\b\b\b\b\b\b\b\b\b\b\b\b\b\b\b\b\b\b\b\b\b\b\b\b\b\b\b\b\b\b\b\b\b\b\b\b\b\b\b\b\b\b\b\b\b\b\b\b\b\b\b\b\b\b\b\b\b\b\b\b\b\b\b\b\b\b\b\b\b\b\b\b\b\b\b\b\b\b\b\b\b\b\b\b\r1283/1283 [==============================] - 45s 35ms/step - loss: 0.3148 - sparse_categorical_accuracy: 0.8891\n",
            "Epoch 21/30\n",
            "1282/1283 [============================>.] - ETA: 0s - loss: 0.3040 - sparse_categorical_accuracy: 0.8914\n",
            "Epoch 21: saving model to model_weights.h5\n"
          ]
        },
        {
          "output_type": "stream",
          "name": "stderr",
          "text": [
            "WARNING:tensorflow:Early stopping conditioned on metric `val_loss` which is not available. Available metrics are: loss,sparse_categorical_accuracy\n"
          ]
        },
        {
          "output_type": "stream",
          "name": "stdout",
          "text": [
            "\b\b\b\b\b\b\b\b\b\b\b\b\b\b\b\b\b\b\b\b\b\b\b\b\b\b\b\b\b\b\b\b\b\b\b\b\b\b\b\b\b\b\b\b\b\b\b\b\b\b\b\b\b\b\b\b\b\b\b\b\b\b\b\b\b\b\b\b\b\b\b\b\b\b\b\b\b\b\b\b\b\b\b\b\b\b\b\b\b\b\b\b\b\b\b\b\b\b\b\b\b\b\b\b\b\r1283/1283 [==============================] - 45s 35ms/step - loss: 0.3040 - sparse_categorical_accuracy: 0.8914\n",
            "Epoch 22/30\n",
            "1282/1283 [============================>.] - ETA: 0s - loss: 0.2936 - sparse_categorical_accuracy: 0.8932\n",
            "Epoch 22: saving model to model_weights.h5\n"
          ]
        },
        {
          "output_type": "stream",
          "name": "stderr",
          "text": [
            "WARNING:tensorflow:Early stopping conditioned on metric `val_loss` which is not available. Available metrics are: loss,sparse_categorical_accuracy\n"
          ]
        },
        {
          "output_type": "stream",
          "name": "stdout",
          "text": [
            "\b\b\b\b\b\b\b\b\b\b\b\b\b\b\b\b\b\b\b\b\b\b\b\b\b\b\b\b\b\b\b\b\b\b\b\b\b\b\b\b\b\b\b\b\b\b\b\b\b\b\b\b\b\b\b\b\b\b\b\b\b\b\b\b\b\b\b\b\b\b\b\b\b\b\b\b\b\b\b\b\b\b\b\b\b\b\b\b\b\b\b\b\b\b\b\b\b\b\b\b\b\b\b\b\b\r1283/1283 [==============================] - 45s 35ms/step - loss: 0.2936 - sparse_categorical_accuracy: 0.8932\n",
            "Epoch 23/30\n",
            "1283/1283 [==============================] - ETA: 0s - loss: 0.2867 - sparse_categorical_accuracy: 0.8956\n",
            "Epoch 23: saving model to model_weights.h5\n"
          ]
        },
        {
          "output_type": "stream",
          "name": "stderr",
          "text": [
            "WARNING:tensorflow:Early stopping conditioned on metric `val_loss` which is not available. Available metrics are: loss,sparse_categorical_accuracy\n"
          ]
        },
        {
          "output_type": "stream",
          "name": "stdout",
          "text": [
            "\b\b\b\b\b\b\b\b\b\b\b\b\b\b\b\b\b\b\b\b\b\b\b\b\b\b\b\b\b\b\b\b\b\b\b\b\b\b\b\b\b\b\b\b\b\b\b\b\b\b\b\b\b\b\b\b\b\b\b\b\b\b\b\b\b\b\b\b\b\b\b\b\b\b\b\b\b\b\b\b\b\b\b\b\b\b\b\b\b\b\b\b\b\b\b\b\b\b\b\b\b\b\b\b\b\r1283/1283 [==============================] - 45s 35ms/step - loss: 0.2867 - sparse_categorical_accuracy: 0.8956\n",
            "Epoch 24/30\n",
            "1283/1283 [==============================] - ETA: 0s - loss: 0.2786 - sparse_categorical_accuracy: 0.8969\n",
            "Epoch 24: saving model to model_weights.h5\n"
          ]
        },
        {
          "output_type": "stream",
          "name": "stderr",
          "text": [
            "WARNING:tensorflow:Early stopping conditioned on metric `val_loss` which is not available. Available metrics are: loss,sparse_categorical_accuracy\n"
          ]
        },
        {
          "output_type": "stream",
          "name": "stdout",
          "text": [
            "\b\b\b\b\b\b\b\b\b\b\b\b\b\b\b\b\b\b\b\b\b\b\b\b\b\b\b\b\b\b\b\b\b\b\b\b\b\b\b\b\b\b\b\b\b\b\b\b\b\b\b\b\b\b\b\b\b\b\b\b\b\b\b\b\b\b\b\b\b\b\b\b\b\b\b\b\b\b\b\b\b\b\b\b\b\b\b\b\b\b\b\b\b\b\b\b\b\b\b\b\b\b\b\b\b\r1283/1283 [==============================] - 45s 35ms/step - loss: 0.2786 - sparse_categorical_accuracy: 0.8969\n",
            "Epoch 25/30\n",
            "1282/1283 [============================>.] - ETA: 0s - loss: 0.2724 - sparse_categorical_accuracy: 0.8984\n",
            "Epoch 25: saving model to model_weights.h5\n"
          ]
        },
        {
          "output_type": "stream",
          "name": "stderr",
          "text": [
            "WARNING:tensorflow:Early stopping conditioned on metric `val_loss` which is not available. Available metrics are: loss,sparse_categorical_accuracy\n"
          ]
        },
        {
          "output_type": "stream",
          "name": "stdout",
          "text": [
            "\b\b\b\b\b\b\b\b\b\b\b\b\b\b\b\b\b\b\b\b\b\b\b\b\b\b\b\b\b\b\b\b\b\b\b\b\b\b\b\b\b\b\b\b\b\b\b\b\b\b\b\b\b\b\b\b\b\b\b\b\b\b\b\b\b\b\b\b\b\b\b\b\b\b\b\b\b\b\b\b\b\b\b\b\b\b\b\b\b\b\b\b\b\b\b\b\b\b\b\b\b\b\b\b\b\r1283/1283 [==============================] - 48s 37ms/step - loss: 0.2724 - sparse_categorical_accuracy: 0.8984\n",
            "Epoch 26/30\n",
            "1282/1283 [============================>.] - ETA: 0s - loss: 0.2663 - sparse_categorical_accuracy: 0.8994\n",
            "Epoch 26: saving model to model_weights.h5\n"
          ]
        },
        {
          "output_type": "stream",
          "name": "stderr",
          "text": [
            "WARNING:tensorflow:Early stopping conditioned on metric `val_loss` which is not available. Available metrics are: loss,sparse_categorical_accuracy\n"
          ]
        },
        {
          "output_type": "stream",
          "name": "stdout",
          "text": [
            "\b\b\b\b\b\b\b\b\b\b\b\b\b\b\b\b\b\b\b\b\b\b\b\b\b\b\b\b\b\b\b\b\b\b\b\b\b\b\b\b\b\b\b\b\b\b\b\b\b\b\b\b\b\b\b\b\b\b\b\b\b\b\b\b\b\b\b\b\b\b\b\b\b\b\b\b\b\b\b\b\b\b\b\b\b\b\b\b\b\b\b\b\b\b\b\b\b\b\b\b\b\b\b\b\b\r1283/1283 [==============================] - 45s 35ms/step - loss: 0.2663 - sparse_categorical_accuracy: 0.8994\n",
            "Epoch 27/30\n",
            "1283/1283 [==============================] - ETA: 0s - loss: 0.2627 - sparse_categorical_accuracy: 0.9001\n",
            "Epoch 27: saving model to model_weights.h5\n"
          ]
        },
        {
          "output_type": "stream",
          "name": "stderr",
          "text": [
            "WARNING:tensorflow:Early stopping conditioned on metric `val_loss` which is not available. Available metrics are: loss,sparse_categorical_accuracy\n"
          ]
        },
        {
          "output_type": "stream",
          "name": "stdout",
          "text": [
            "\b\b\b\b\b\b\b\b\b\b\b\b\b\b\b\b\b\b\b\b\b\b\b\b\b\b\b\b\b\b\b\b\b\b\b\b\b\b\b\b\b\b\b\b\b\b\b\b\b\b\b\b\b\b\b\b\b\b\b\b\b\b\b\b\b\b\b\b\b\b\b\b\b\b\b\b\b\b\b\b\b\b\b\b\b\b\b\b\b\b\b\b\b\b\b\b\b\b\b\b\b\b\b\b\b\r1283/1283 [==============================] - 45s 35ms/step - loss: 0.2627 - sparse_categorical_accuracy: 0.9001\n",
            "Epoch 28/30\n",
            "1282/1283 [============================>.] - ETA: 0s - loss: 0.2582 - sparse_categorical_accuracy: 0.9013\n",
            "Epoch 28: saving model to model_weights.h5\n"
          ]
        },
        {
          "output_type": "stream",
          "name": "stderr",
          "text": [
            "WARNING:tensorflow:Early stopping conditioned on metric `val_loss` which is not available. Available metrics are: loss,sparse_categorical_accuracy\n"
          ]
        },
        {
          "output_type": "stream",
          "name": "stdout",
          "text": [
            "\b\b\b\b\b\b\b\b\b\b\b\b\b\b\b\b\b\b\b\b\b\b\b\b\b\b\b\b\b\b\b\b\b\b\b\b\b\b\b\b\b\b\b\b\b\b\b\b\b\b\b\b\b\b\b\b\b\b\b\b\b\b\b\b\b\b\b\b\b\b\b\b\b\b\b\b\b\b\b\b\b\b\b\b\b\b\b\b\b\b\b\b\b\b\b\b\b\b\b\b\b\b\b\b\b\r1283/1283 [==============================] - 45s 35ms/step - loss: 0.2582 - sparse_categorical_accuracy: 0.9013\n",
            "Epoch 29/30\n",
            "1283/1283 [==============================] - ETA: 0s - loss: 0.2533 - sparse_categorical_accuracy: 0.9025\n",
            "Epoch 29: saving model to model_weights.h5\n"
          ]
        },
        {
          "output_type": "stream",
          "name": "stderr",
          "text": [
            "WARNING:tensorflow:Early stopping conditioned on metric `val_loss` which is not available. Available metrics are: loss,sparse_categorical_accuracy\n"
          ]
        },
        {
          "output_type": "stream",
          "name": "stdout",
          "text": [
            "\b\b\b\b\b\b\b\b\b\b\b\b\b\b\b\b\b\b\b\b\b\b\b\b\b\b\b\b\b\b\b\b\b\b\b\b\b\b\b\b\b\b\b\b\b\b\b\b\b\b\b\b\b\b\b\b\b\b\b\b\b\b\b\b\b\b\b\b\b\b\b\b\b\b\b\b\b\b\b\b\b\b\b\b\b\b\b\b\b\b\b\b\b\b\b\b\b\b\b\b\b\b\b\b\b\r1283/1283 [==============================] - 45s 35ms/step - loss: 0.2533 - sparse_categorical_accuracy: 0.9025\n",
            "Epoch 30/30\n",
            "1283/1283 [==============================] - ETA: 0s - loss: 0.2516 - sparse_categorical_accuracy: 0.9027\n",
            "Epoch 30: saving model to model_weights.h5\n"
          ]
        },
        {
          "output_type": "stream",
          "name": "stderr",
          "text": [
            "WARNING:tensorflow:Early stopping conditioned on metric `val_loss` which is not available. Available metrics are: loss,sparse_categorical_accuracy\n"
          ]
        },
        {
          "output_type": "stream",
          "name": "stdout",
          "text": [
            "\b\b\b\b\b\b\b\b\b\b\b\b\b\b\b\b\b\b\b\b\b\b\b\b\b\b\b\b\b\b\b\b\b\b\b\b\b\b\b\b\b\b\b\b\b\b\b\b\b\b\b\b\b\b\b\b\b\b\b\b\b\b\b\b\b\b\b\b\b\b\b\b\b\b\b\b\b\b\b\b\b\b\b\b\b\b\b\b\b\b\b\b\b\b\b\b\b\b\b\b\b\b\b\b\b\r1283/1283 [==============================] - 45s 35ms/step - loss: 0.2516 - sparse_categorical_accuracy: 0.9027\n"
          ]
        }
      ]
    },
    {
      "cell_type": "code",
      "source": [
        "###### Save the model.\n",
        "model.save('eng_mar_model')\n",
        "\n",
        "\n",
        "###### Zip and download the model.\n",
        "# !zip -r ./hun_eng_s2s_nmt_no_attention.zip ./hun_eng_s2s_nmt_no_attention\n",
        "# files.download(\"./hun_eng_s2s_nmt_no_attention.zip\")\n",
        "\n",
        "\n",
        "###### Save the tokenizers as JSON files. The resulting files can be downloaded by left-clicking on them.\n",
        "# source_tokenizer_json = source_tokenizer.to_json()\n",
        "# with io.open('source_tokenizer.json', 'w', encoding='utf-8') as f:\n",
        "#   f.write(json.dumps(source_tokenizer_json, ensure_ascii=False))\n",
        "\n",
        "# target_tokenizer_json = target_tokenizer.to_json()\n",
        "# with io.open('target_tokenizer.json', 'w', encoding='utf-8') as f:\n",
        "#   f.write(json.dumps(target_tokenizer_json, ensure_ascii=False))"
      ],
      "metadata": {
        "id": "aXr8wFsxrMmb"
      },
      "execution_count": null,
      "outputs": []
    }
  ]
}